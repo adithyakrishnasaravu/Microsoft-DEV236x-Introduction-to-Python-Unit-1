{
  "metadata": {
    "anaconda-cloud": {},
    "kernelspec": {
      "display_name": "Python 3",
      "language": "python",
      "name": "python3"
    },
    "language_info": {
      "mimetype": "text/x-python",
      "nbconvert_exporter": "python",
      "name": "python",
      "file_extension": ".py",
      "version": "3.5.4",
      "pygments_lexer": "ipython3",
      "codemirror_mode": {
        "version": 3,
        "name": "ipython"
      }
    }
  },
  "nbformat_minor": 2,
  "nbformat": 4,
  "cells": [
    {
      "cell_type": "markdown",
      "source": "# 1-2.4 Intro Python\n## Strings: input, testing, formatting\n- input() - gathering user input  \n- print() formatting   \n- Quotes inside strings \n- Boolean string tests methods   \n- **String formatting methods**  \n- **Formatting string input()**  \n- **Boolean `in` keyword**  \n\n-----\n\n><font size=\"5\" color=\"#00A0B2\"  face=\"verdana\"> <B>Student will be able to</B></font>\n- gather, store and use string `input()`  \n- format `print()` output  \n- test string characteristics  \n- **format string output**  \n- **search for a string in a string**  ",
      "metadata": {}
    },
    {
      "cell_type": "markdown",
      "source": "# &nbsp;\n<font size=\"6\" color=\"#00A0B2\"  face=\"verdana\"> <B>Concepts</B></font>  \n## String formatting methods\n[![view video](https://iajupyterprodblobs.blob.core.windows.net/imagecontainer/common/play_video.png)]( http://edxinteractivepage.blob.core.windows.net/edxpages/f7cff1a7-5601-48a1-95a6-fd1fdfabd20e.html?details=[{\"src\":\"http://jupyternootbookwams.streaming.mediaservices.windows.net/693e416c-ab73-4387-a0d2-5a47668ae4de/Unit1_Section2-4-String-Format_Methods.ism/manifest\",\"type\":\"application/vnd.ms-sstr+xml\"}],[{\"src\":\"http://jupyternootbookwams.streaming.mediaservices.windows.net/693e416c-ab73-4387-a0d2-5a47668ae4de/Unit1_Section2-4-String-Format_Methods.vtt\",\"srclang\":\"en\",\"kind\":\"subtitles\",\"label\":\"english\"}])\nthe following methods are applied to string objects\n- **.capitalize()** - capitalizes the first character of a string\n- **.lower()** - all characters of a string are made lowercase\n- **.upper()** - all characters of a string are made uppercase\n- **.swapcase()** - all characters of a string are made to switch case upper becomes lower and vice versa  \n- **.title()** - each 'word' separated by a space is capitalized",
      "metadata": {}
    },
    {
      "cell_type": "markdown",
      "source": "# &nbsp;\n<font size=\"6\" color=\"#00A0B2\"  face=\"verdana\"> <B>Examples</B></font>  \n### String Formatting Methods",
      "metadata": {}
    },
    {
      "cell_type": "code",
      "source": "print(\"ms. Browning is in her office.\".capitalize())",
      "metadata": {
        "collapsed": false,
        "trusted": true
      },
      "execution_count": null,
      "outputs": []
    },
    {
      "cell_type": "code",
      "source": "fav_color = \"green\"\nprint(fav_color.capitalize(), fav_color, fav_color,\"and\", fav_color.upper()+\"!\")",
      "metadata": {
        "collapsed": false,
        "trusted": true
      },
      "execution_count": null,
      "outputs": []
    },
    {
      "cell_type": "markdown",
      "source": "# &nbsp;\n<font size=\"6\" color=\"#B24C00\"  face=\"verdana\"> <B>Task 1: multi-part</B></font> \n### [ ] format with `.capitalize(), .lower(), .upper(), .swapcase()`\n> **Note:** use **print()**",
      "metadata": {}
    },
    {
      "cell_type": "code",
      "source": "# [ ] get input for a variable, fav_food, that describes a favorite food\nfav_food=input(\"What is your favorite food??\")\n# [ ] display fav_food as ALL CAPS, used in a sentence\nprint(fav_food.upper())\n\n# [ ] dispaly fav_food as all lower case, used in a sentence\nprint(fav_food.lower())\n\n# [] display fav_food with swapped case, used in a sentence\nprint(fav_food.swapcase())\n\n# [] display fav_food with capitalization, used in a sentence\nprint(fav_food.capitalize())\n\n\n",
      "metadata": {
        "collapsed": false,
        "trusted": true
      },
      "execution_count": null,
      "outputs": []
    },
    {
      "cell_type": "code",
      "source": "fav_color = \"Forest Green\"\n# [] display the fav_color variable as upper, lower, swapcase, and capitalize formatting in a single print() statement\nprint(fav_color.upper(),fav_color.lower(),fav_color.swapcase(),fav_color.capitalize())\n",
      "metadata": {
        "collapsed": false,
        "trusted": true
      },
      "execution_count": null,
      "outputs": []
    },
    {
      "cell_type": "markdown",
      "source": "# &nbsp;\n<font size=\"6\" color=\"#00A0B2\"  face=\"verdana\"> <B>Concepts</B></font>\n## Formatting string input()\n[![view video](https://iajupyterprodblobs.blob.core.windows.net/imagecontainer/common/play_video.png)]( http://edxinteractivepage.blob.core.windows.net/edxpages/f7cff1a7-5601-48a1-95a6-fd1fdfabd20e.html?details=[{\"src\":\"http://jupyternootbookwams.streaming.mediaservices.windows.net/460107d8-5d62-432e-924b-a3c779b2e5c5/Unit1_Section2-4-Input-String_Formatting.ism/manifest\",\"type\":\"application/vnd.ms-sstr+xml\"}],[{\"src\":\"http://jupyternootbookwams.streaming.mediaservices.windows.net/460107d8-5d62-432e-924b-a3c779b2e5c5/Unit1_Section2-4-Input-String_Formatting.vtt\",\"srclang\":\"en\",\"kind\":\"subtitles\",\"label\":\"english\"}])\nWhen storing input, sometimes a specific format is needed and formatting is applied to the **`input()`** function\n> **Note:** this technique overwrites the original user input in the variable with the formatted value ",
      "metadata": {}
    },
    {
      "cell_type": "markdown",
      "source": "<font size=\"4\" color=\"#00A0B2\"  face=\"verdana\"> <B>Example</B></font>",
      "metadata": {}
    },
    {
      "cell_type": "code",
      "source": "# review and run code - test a capitalized color input\nfav_color = input('What is your favorite color?: ').lower()\nprint(fav_color)",
      "metadata": {
        "collapsed": false,
        "trusted": true
      },
      "execution_count": null,
      "outputs": []
    },
    {
      "cell_type": "markdown",
      "source": "# &nbsp;\n<font size=\"6\" color=\"#B24C00\"  face=\"verdana\"> <B>Task 2</B></font>  \n### [ ] format &nbsp; ` input()` with ` .upper()`",
      "metadata": {}
    },
    {
      "cell_type": "code",
      "source": "# [] input variable fav_color as upper\nfav_color=input(\"What is favorite color??\").upper()\n# [] print fav_color\nprint(fav_color)\n\n",
      "metadata": {
        "collapsed": false,
        "trusted": true
      },
      "execution_count": null,
      "outputs": []
    },
    {
      "cell_type": "markdown",
      "source": "# &nbsp;\n<font size=\"6\" color=\"#00A0B2\"  face=\"verdana\"> <B>Concepts</B></font>  \n## Boolean `in` keyword \n[![view video](https://iajupyterprodblobs.blob.core.windows.net/imagecontainer/common/play_video.png)]( http://edxinteractivepage.blob.core.windows.net/edxpages/f7cff1a7-5601-48a1-95a6-fd1fdfabd20e.html?details=[{\"src\":\"http://jupyternootbookwams.streaming.mediaservices.windows.net/ef7e8587-8ce6-48a4-9a2f-fb0a09db287f/Unit1_Section2-4-Boolean-in.ism/manifest\",\"type\":\"application/vnd.ms-sstr+xml\"}],[{\"src\":\"http://jupyternootbookwams.streaming.mediaservices.windows.net/ef7e8587-8ce6-48a4-9a2f-fb0a09db287f/Unit1_Section2-4-Boolean-in.vtt\",\"srclang\":\"en\",\"kind\":\"subtitles\",\"label\":\"english\"}])\nthe **`in`** keyword can be used as a simple search returning **`True`** or **`False`** indication if a string is included in a target sequence.  \n### comparing strings is case sensitive\n`'Hello'` is not the same as `'hello'`  ",
      "metadata": {}
    },
    {
      "cell_type": "markdown",
      "source": "<font size=\"6\" color=\"#00A0B2\"  face=\"verdana\"> <B>Examples</B></font>",
      "metadata": {}
    },
    {
      "cell_type": "code",
      "source": "# review and run code to test if a string is to be found in another string\nmenu = \"salad, pasta, sandwich, pizza, drinks, dessert\"\nprint('pizza' in menu)",
      "metadata": {
        "collapsed": false,
        "scrolled": true,
        "trusted": true
      },
      "execution_count": null,
      "outputs": []
    },
    {
      "cell_type": "code",
      "source": "# review and run code to test case sensitive examples \ngreeting = \"Hello World!\"\nprint(\"'hello' in greeting = \",'hello' in greeting)\nprint(\"'Hello' in greeting = \", 'Hello' in greeting)",
      "metadata": {
        "collapsed": true,
        "trusted": true
      },
      "execution_count": null,
      "outputs": []
    },
    {
      "cell_type": "markdown",
      "source": "example below: **remove case sensitivity from a string comparison**",
      "metadata": {}
    },
    {
      "cell_type": "code",
      "source": "# review and run code to test removing case sensitivity from a string comparison\ngreeting = \"Hello World!\"\nprint(\"'hello' in greeting = \",'hello' in greeting)\nprint(\"'Hello' in greeting = \", 'Hello' in greeting)\nprint(\"'hello' in greeting if lower used = \", 'hello'.lower() in greeting.lower())",
      "metadata": {
        "collapsed": true,
        "trusted": true
      },
      "execution_count": null,
      "outputs": []
    },
    {
      "cell_type": "markdown",
      "source": "# &nbsp;\n<font size=\"6\" color=\"#B24C00\"  face=\"verdana\"> <B>Task 3: multi-part</B></font>  \n**[ ] add code below** testing the **`menu`** string variable for `'pizza'`, `'soup'`, and `'dessert'` using keyword &nbsp; **`in`**\n- print each test on a separate line\n- print a description for each test &nbsp; (e.g. - \"`Pizza in menu = True`\")",
      "metadata": {}
    },
    {
      "cell_type": "code",
      "source": "# [] print 3 tests, with description text, testing the menu variable for 'pizza', 'soup' and 'dessert'\nmenu = \"salad, pasta, sandwich, pizza, drinks, dessert\"\n\nprint(\"pizza in menu =\",'pizza'in menu)\nprint(\"soup in menu =\",'soup' in menu)\nprint(\"dessert in menu =\",'dessert' in menu)",
      "metadata": {
        "collapsed": false,
        "trusted": true
      },
      "execution_count": 6,
      "outputs": [
        {
          "text": "pizza in menu = True\nsoup in menu = False\ndessert in menu = True\n",
          "name": "stdout",
          "output_type": "stream"
        }
      ]
    },
    {
      "cell_type": "markdown",
      "source": "## Program: What is on the menu\n### [ ] Create a program where a user can check if an item is on the menu\n- store the user response in a variable menu_ask\n- use the menu from above and add some additional items\n- the program should be able to ignore case mismatch so that \"hello\" is found in \"Hello World!\"",
      "metadata": {}
    },
    {
      "cell_type": "code",
      "source": "# Create a program where the user supplies input to search the menu\nmenu_ask=input(\"What do you want to eat??\")\nmenu1 = \"salad, pasta, sandwich, pizza, drinks, dessert,dosa,idli,curd rice,burger,lasagnia\"\nprint(menu_ask,\"is available on the the menu =\",menu_ask.lower() in menu.lower())",
      "metadata": {
        "collapsed": false,
        "trusted": true
      },
      "execution_count": null,
      "outputs": []
    },
    {
      "cell_type": "markdown",
      "source": "### [ ] Challenge: Add to the menu\n- print the current menu\n- get user input for add_item variable\n- new_menu use string addition to add add_item to menu\n- print the new_menu\ntesting\n- add a cell below add menu\n- check if an item is on the menu, check for previous items and the item you added",
      "metadata": {}
    },
    {
      "cell_type": "code",
      "source": "# add to menu\nmenu1 = \"salad, pasta, sandwich, pizza, drinks, dessert,dosa,idli,curd rice,burger,lasagnia\"\nadd_item=input(\"what do you want to eat??\")\nnew_menu=add_item + menu1\nprint(new_menu)\n\nprint(add_item,\"is available on the menu=\",add_item.lower() in menu1.lower())\nprint(\"salad is there on the menu =\",'salad'in new_menu)\nprint(\"burger is there on the menu=\",'burger'in new_menu)",
      "metadata": {
        "collapsed": false,
        "trusted": true
      },
      "execution_count": 13,
      "outputs": [
        {
          "text": "asalad, pasta, sandwich, pizza, drinks, dessert,dosa,idli,curd rice,burger,lasagnia\na is available on the menu= True\nsalad is there on the menu = True\nburger is there on the menu= True\n",
          "name": "stdout",
          "output_type": "stream"
        }
      ]
    },
    {
      "cell_type": "code",
      "source": "# Testing Add to Menu - create user input to search for an item on the new menu\nx=input(\"what do you want to eat on our new menu??\")\nprint(x,\"is available on the menu =\",x in new_menu)",
      "metadata": {
        "collapsed": false,
        "trusted": true
      },
      "execution_count": 15,
      "outputs": [
        {
          "text": "idli is available on the menu = True\n",
          "name": "stdout",
          "output_type": "stream"
        }
      ]
    },
    {
      "cell_type": "markdown",
      "source": "# &nbsp;\n<font size=\"6\" color=\"#B24C00\"  face=\"verdana\"> <B>Task 4</B></font>\n## Fix The Error",
      "metadata": {}
    },
    {
      "cell_type": "code",
      "source": "# [ ] fix the error\npaint_colors = \"red, blue, green, black, orange, pink\"\nprint('Red in paint colors = ','red' in paint_colors)\n\n",
      "metadata": {
        "collapsed": false,
        "trusted": true
      },
      "execution_count": 16,
      "outputs": [
        {
          "text": "Red in paint colors =  True\n",
          "name": "stdout",
          "output_type": "stream"
        }
      ]
    },
    {
      "cell_type": "markdown",
      "source": "[Terms of use](http://go.microsoft.com/fwlink/?LinkID=206977) &nbsp; [Privacy & cookies](https://go.microsoft.com/fwlink/?LinkId=521839) &nbsp; © 2017 Microsoft",
      "metadata": {}
    }
  ]
}