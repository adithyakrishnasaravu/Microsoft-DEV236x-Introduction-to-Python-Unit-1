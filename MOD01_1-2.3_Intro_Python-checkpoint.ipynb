{
  "metadata": {
    "anaconda-cloud": {},
    "kernelspec": {
      "name": "python3",
      "display_name": "Python 3",
      "language": "python"
    },
    "language_info": {
      "mimetype": "text/x-python",
      "nbconvert_exporter": "python",
      "name": "python",
      "pygments_lexer": "ipython3",
      "version": "3.5.4",
      "file_extension": ".py",
      "codemirror_mode": {
        "version": 3,
        "name": "ipython"
      }
    }
  },
  "nbformat_minor": 2,
  "nbformat": 4,
  "cells": [
    {
      "cell_type": "markdown",
      "source": "# 1-2.3 Intro Python\n## Strings: input, testing, formatting\n- input() - gathering user input  \n- print() formatting  \n- **Quotes inside strings** \n- **Boolean string tests methods**  \n- String formatting methods\n- Formatting string input()\n- Boolean `in` keyword \n\n-----\n\n><font size=\"5\" color=\"#00A0B2\"  face=\"verdana\"> <B>Student will be able to</B></font>\n- gather, store and use string `input()`  \n- format `print()` output  \n- **test string characteristics**  \n- format string output\n- search for a string in a string",
      "metadata": {}
    },
    {
      "cell_type": "markdown",
      "source": "# &nbsp;\n<font size=\"6\" color=\"#00A0B2\"  face=\"verdana\"> <B>Concepts</B></font>  \n## quotes inside strings \n[![view video](https://iajupyterprodblobs.blob.core.windows.net/imagecontainer/common/play_video.png)]( http://edxinteractivepage.blob.core.windows.net/edxpages/f7cff1a7-5601-48a1-95a6-fd1fdfabd20e.html?details=[{\"src\":\"http://jupyternootbookwams.streaming.mediaservices.windows.net/c21bfb29-21f6-4bef-b00e-25d2f7440153/Unit1_Section2-3-Quotes_in_Strings.ism/manifest\",\"type\":\"application/vnd.ms-sstr+xml\"}],[{\"src\":\"http://jupyternootbookwams.streaming.mediaservices.windows.net/c21bfb29-21f6-4bef-b00e-25d2f7440153/Unit1_Section2-3-Quotes_in_Strings.vtt\",\"srclang\":\"en\",\"kind\":\"subtitles\",\"label\":\"english\"}])\n### single quotes in double quotes\nto display single quotes **`'`** in a string - double quotes can be used as the outer quotes: **`\"it's time\"`**\n### double quotes in single quotes\nto display double quotes **`\"`** in a string- single quotes can be used as the outer quotes: **`'Alton said \"Hello\"'`**",
      "metadata": {}
    },
    {
      "cell_type": "markdown",
      "source": "# &nbsp;\n<font size=\"6\" color=\"#00A0B2\"  face=\"verdana\"> <B>Examples</B></font>",
      "metadata": {}
    },
    {
      "cell_type": "code",
      "source": "# review and run the code\n\n# Single quote surrounded by Double\nprint(\"It's time to save your code\")\n\n# Double quote surrounded by Single\nprint('I said to the class \"sometimes you need to shut down and restart a notebook when cells refuse to run\"')",
      "metadata": {
        "trusted": true
      },
      "execution_count": 1,
      "outputs": [
        {
          "text": "It's time to save your code\nI said to the class \"sometimes you need to shut down and restart a notebook when cells refuse to run\"\n",
          "name": "stdout",
          "output_type": "stream"
        }
      ]
    },
    {
      "cell_type": "markdown",
      "source": " # &nbsp;\n<font size=\"6\" color=\"#B24C00\"  face=\"verdana\"> <B>Task 1</B></font>  \n- **[ ] `print()`** strings that display double and single quotation marks",
      "metadata": {}
    },
    {
      "cell_type": "code",
      "source": "# [ ] using a print statement, display the text: Where's the homework?\nprint(\"Where's the homework?\")\n",
      "metadata": {
        "trusted": true
      },
      "execution_count": 2,
      "outputs": [
        {
          "text": "Where's the homework?\n",
          "name": "stdout",
          "output_type": "stream"
        }
      ]
    },
    {
      "cell_type": "code",
      "source": "# [ ] output with double quotes: \"Education is what remains after one has forgotten what one has learned in school\" - Albert Einstein\nprint('\"Education is what remains after one has forgotten what one has learned in school\" - Albert Einstein')\n",
      "metadata": {
        "trusted": true
      },
      "execution_count": 3,
      "outputs": [
        {
          "text": "\"Education is what remains after one has forgotten what one has learned in school\" - Albert Einstein\n",
          "name": "stdout",
          "output_type": "stream"
        }
      ]
    },
    {
      "cell_type": "markdown",
      "source": ">**note:**: Quotes in quotes handles only simple cases of displaying quotation marks.  More complex case are covered later under *escape sequences.*",
      "metadata": {}
    },
    {
      "cell_type": "markdown",
      "source": "# &nbsp;\n<font size=\"6\" color=\"#00A0B2\"  face=\"verdana\"> <B>Concepts</B></font>  \n## Boolean string tests\n[![view video](https://iajupyterprodblobs.blob.core.windows.net/imagecontainer/common/play_video.png)]( http://edxinteractivepage.blob.core.windows.net/edxpages/f7cff1a7-5601-48a1-95a6-fd1fdfabd20e.html?details=[{\"src\":\"https://jupyternootbookwams.streaming.mediaservices.windows.net/dfe6e85f-8022-471c-8d92-0b1d61ebffbd/Unit1_Section2-3-Boolean_String_Methods.ism/manifest\",\"type\":\"application/vnd.ms-sstr+xml\"}],[{\"src\":\"https://jupyternootbookwams.streaming.mediaservices.windows.net/dfe6e85f-8022-471c-8d92-0b1d61ebffbd/Unit1_Section2-3-Boolean_String_Methods.vtt\",\"srclang\":\"en\",\"kind\":\"subtitles\",\"label\":\"english\"}])\nmethods\n- .isalpha()\n- .isalnum()\n- .istitle()\n- .isdigit()\n- .islower()\n- .isupper()\n- .startswith()\n\ntype **`str`** has methods that return a Boolean (True or False) for different tests on the properties of stings.\n>```python\n\"Hello\".isapha()\n```\nout:[ ] &nbsp; &nbsp; `True`  \n  \n`.isalpha()` returns True if all characters in the string (\"Hello\") are alphabetical, otherwise returns False\n",
      "metadata": {}
    },
    {
      "cell_type": "markdown",
      "source": "# &nbsp;\n<font size=\"6\" color=\"#00A0B2\"  face=\"verdana\"> <B>Examples</B></font> \n## Boolean String Tests\n- **[ ] review and run code in each cell**",
      "metadata": {}
    },
    {
      "cell_type": "code",
      "source": "\"Python\".isalpha()",
      "metadata": {
        "trusted": true
      },
      "execution_count": 4,
      "outputs": [
        {
          "execution_count": 4,
          "output_type": "execute_result",
          "data": {
            "text/plain": "True"
          },
          "metadata": {}
        }
      ]
    },
    {
      "cell_type": "code",
      "source": "\"3rd\".isalnum()",
      "metadata": {
        "trusted": true
      },
      "execution_count": 5,
      "outputs": [
        {
          "execution_count": 5,
          "output_type": "execute_result",
          "data": {
            "text/plain": "True"
          },
          "metadata": {}
        }
      ]
    },
    {
      "cell_type": "code",
      "source": "\"A Cold Stromy Night\".istitle()",
      "metadata": {
        "trusted": true
      },
      "execution_count": 6,
      "outputs": [
        {
          "execution_count": 6,
          "output_type": "execute_result",
          "data": {
            "text/plain": "True"
          },
          "metadata": {}
        }
      ]
    },
    {
      "cell_type": "code",
      "source": "\"1003\".isdigit()",
      "metadata": {
        "trusted": true
      },
      "execution_count": 7,
      "outputs": [
        {
          "execution_count": 7,
          "output_type": "execute_result",
          "data": {
            "text/plain": "True"
          },
          "metadata": {}
        }
      ]
    },
    {
      "cell_type": "code",
      "source": "cm_height = \"176\"\nprint(\"cm height:\",cm_height, \"is all digits =\",cm_height.isdigit())",
      "metadata": {
        "trusted": true
      },
      "execution_count": 8,
      "outputs": [
        {
          "text": "cm height: 176 is all digits = True\n",
          "name": "stdout",
          "output_type": "stream"
        }
      ]
    },
    {
      "cell_type": "code",
      "source": "print(\"SAVE\".islower())\nprint(\"SAVE\".isupper())",
      "metadata": {
        "trusted": true
      },
      "execution_count": 9,
      "outputs": [
        {
          "text": "False\nTrue\n",
          "name": "stdout",
          "output_type": "stream"
        }
      ]
    },
    {
      "cell_type": "code",
      "source": "\"Boolean\".startswith(\"B\")",
      "metadata": {
        "trusted": true
      },
      "execution_count": 10,
      "outputs": [
        {
          "execution_count": 10,
          "output_type": "execute_result",
          "data": {
            "text/plain": "True"
          },
          "metadata": {}
        }
      ]
    },
    {
      "cell_type": "markdown",
      "source": " # &nbsp;\n<font size=\"6\" color=\"#B24C00\"  face=\"verdana\"> <B>Task 2: multi-part</B></font>  \n ### test stings with **`.isalpha()`**",
      "metadata": {}
    },
    {
      "cell_type": "code",
      "source": "# [ ] Use .isalpha() on the string \"alphabetical\"\n\"alphabetical\".isalpha()\n",
      "metadata": {
        "trusted": true
      },
      "execution_count": 11,
      "outputs": [
        {
          "execution_count": 11,
          "output_type": "execute_result",
          "data": {
            "text/plain": "True"
          },
          "metadata": {}
        }
      ]
    },
    {
      "cell_type": "code",
      "source": "# [ ] Use .isalpha() on the string: \"Are spaces and punctuation Alphabetical?\"\n\"Are spaces and punctuation Alphabetical\".isalpha()\n",
      "metadata": {
        "trusted": true
      },
      "execution_count": 22,
      "outputs": [
        {
          "execution_count": 22,
          "output_type": "execute_result",
          "data": {
            "text/plain": "False"
          },
          "metadata": {}
        }
      ]
    },
    {
      "cell_type": "code",
      "source": "# [ ] initailize variable alpha_test with input\nalpha_test=input(\"enter something...\")\n# [ ] use .isalpha() on string variable alpha_test\nalpha_test.isalpha()",
      "metadata": {
        "trusted": true
      },
      "execution_count": null,
      "outputs": []
    },
    {
      "cell_type": "markdown",
      "source": "[Terms of use](http://go.microsoft.com/fwlink/?LinkID=206977) &nbsp; [Privacy & cookies](https://go.microsoft.com/fwlink/?LinkId=521839) &nbsp; © 2017 Microsoft",
      "metadata": {}
    }
  ]
}