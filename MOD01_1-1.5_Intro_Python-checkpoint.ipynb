{
  "cells": [
    {
      "metadata": {
        "slideshow": {
          "slide_type": "slide"
        }
      },
      "cell_type": "markdown",
      "source": "# 1-1.5 Intro Python\n##  Getting started with Python in Jupyter Notebooks\n- Python 3 in Jupyter notebooks\n- `print()`\n- comments \n- data types basics\n- variables\n- addition with Strings and Integers \n- Errors  \n- **character art**  \n\n-----\n\n\n><font size=\"5\" color=\"#00A0B2\"  face=\"verdana\"> <B>Student will be able to</B></font>\n- use Python 3 in Jupyter notebooks\n- write working code using `print()`, `type()`, comments and variables\n- combine Strings using string addition (+)\n- add numbers in code (+) \n- troubleshoot errors  \n- **create character art**"
    },
    {
      "metadata": {},
      "cell_type": "markdown",
      "source": "# &nbsp;\n<font size=\"6\" color=\"#00A0B2\"  face=\"verdana\"> <B>Extra Activity</B></font>\n## print() character art\n[![view video](https://iajupyterprodblobs.blob.core.windows.net/imagecontainer/common/play_video.png)]( http://edxinteractivepage.blob.core.windows.net/edxpages/f7cff1a7-5601-48a1-95a6-fd1fdfabd20e.html?details=[{\"src\":\"http://jupyternootbookwams.streaming.mediaservices.windows.net/d7a3d1b4-8d8d-4e9e-a984-a6920bcd7ca1/Unit1_Section1.5-ASCII_Art.ism/manifest\",\"type\":\"application/vnd.ms-sstr+xml\"}],[{\"src\":\"http://jupyternootbookwams.streaming.mediaservices.windows.net/d7a3d1b4-8d8d-4e9e-a984-a6920bcd7ca1/Unit1_Section1.5-ASCII_Art.vtt\",\"srclang\":\"en\",\"kind\":\"subtitles\",\"label\":\"english\"}])\nprint() output to the console can create character art in the forms of pictures and stylized text. Below we show how to create a stylized letter \"A\" "
    },
    {
      "metadata": {
        "trusted": false
      },
      "cell_type": "code",
      "source": "# the letter 'A'\nprint(\"    *\")\nprint(\"   * *\")\nprint(\"  *****\")\nprint(\" *     *\")\nprint(\"*       *\")\nprint()",
      "execution_count": null,
      "outputs": []
    },
    {
      "metadata": {},
      "cell_type": "markdown",
      "source": "<font size=\"6\" color=\"#B24C00\"  face=\"verdana\"> <B>Extra Task</B></font>  \n- create the flying bird in character art in the Code cell below\n\n```\n\n_         _      \n \\       /     \n  \\ . . /   \n     V   \n\n```  \n"
    },
    {
      "metadata": {
        "trusted": true
      },
      "cell_type": "code",
      "source": "# create # [ ] flying bird character art \nprint(\"_         _\")\nprint (\" \\       /\")\nprint  (\"  \\ . . /\")\nprint    ( \"     V    \" )",
      "execution_count": 16,
      "outputs": [
        {
          "output_type": "stream",
          "text": "_         _\n \\       /\n  \\ . . /\n     V    \n",
          "name": "stdout"
        }
      ]
    },
    {
      "metadata": {},
      "cell_type": "markdown",
      "source": "<font size=\"4\" color=\"#B24C00\"  face=\"verdana\"> <B>Extra Task cont...</B></font>  \n- create the capital letter \"E\" in character art in the Code cell below"
    },
    {
      "metadata": {
        "trusted": true
      },
      "cell_type": "code",
      "source": "# [ ] capital letter \"E\" character art\nprint(\"  __\")\nprint(\" |__\")\nprint(\" |__\")",
      "execution_count": 21,
      "outputs": [
        {
          "output_type": "stream",
          "text": "  __\n |__\n |__\n",
          "name": "stdout"
        }
      ]
    },
    {
      "metadata": {},
      "cell_type": "markdown",
      "source": "[Terms of use](http://go.microsoft.com/fwlink/?LinkID=206977) &nbsp; [Privacy & cookies](https://go.microsoft.com/fwlink/?LinkId=521839) &nbsp; © 2017 Microsoft"
    }
  ],
  "metadata": {
    "anaconda-cloud": {},
    "kernelspec": {
      "name": "python3",
      "display_name": "Python 3",
      "language": "python"
    },
    "language_info": {
      "mimetype": "text/x-python",
      "nbconvert_exporter": "python",
      "name": "python",
      "file_extension": ".py",
      "version": "3.5.4",
      "pygments_lexer": "ipython3",
      "codemirror_mode": {
        "version": 3,
        "name": "ipython"
      }
    }
  },
  "nbformat": 4,
  "nbformat_minor": 1
}