{
  "cells": [
    {
      "metadata": {
        "trusted": true
      },
      "cell_type": "code",
      "source": "print(\"* * * * * * * * * * * * * *\")\nprint(\"*                         *\")\nprint(\"*                         *\")\nprint(\"*                         *\")\nprint(\"*                         *\")\nprint(\"* * * * * * * * * * * * * *\")",
      "execution_count": 5,
      "outputs": [
        {
          "output_type": "stream",
          "text": "* * * * * * * * * * * * * *\n*                         *\n*                         *\n*                         *\n*                         *\n* * * * * * * * * * * * * *\n",
          "name": "stdout"
        }
      ]
    },
    {
      "metadata": {
        "trusted": true
      },
      "cell_type": "code",
      "source": "",
      "execution_count": null,
      "outputs": []
    }
  ],
  "metadata": {
    "kernelspec": {
      "name": "python3",
      "display_name": "Python 3",
      "language": "python"
    },
    "language_info": {
      "mimetype": "text/x-python",
      "nbconvert_exporter": "python",
      "name": "python",
      "pygments_lexer": "ipython3",
      "version": "3.5.4",
      "file_extension": ".py",
      "codemirror_mode": {
        "version": 3,
        "name": "ipython"
      }
    }
  },
  "nbformat": 4,
  "nbformat_minor": 1
}