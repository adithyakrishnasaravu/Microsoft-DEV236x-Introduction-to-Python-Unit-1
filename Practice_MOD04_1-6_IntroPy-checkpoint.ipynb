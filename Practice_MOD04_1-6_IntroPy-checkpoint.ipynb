{
  "cells": [
    {
      "metadata": {},
      "cell_type": "markdown",
      "source": "# 1-6.2 Intro Python Practice\n## Nested Conditionals\n<font size=\"5\" color=\"#00A0B2\"  face=\"verdana\"> <B>Student will be able to</B></font>\n- create nested conditional logic in code  \n- print format print using escape sequence (**\\**)"
    },
    {
      "metadata": {},
      "cell_type": "markdown",
      "source": "# &nbsp;\n<font size=\"6\" color=\"#B24C00\"  face=\"verdana\"> <B>Tasks</B></font>  "
    },
    {
      "metadata": {
        "trusted": true
      },
      "cell_type": "code",
      "source": "# [ ] print a string that outputs the following exactly: The new line character is \"\\n\"\nprint('The new line character is \"\\n\"')\n",
      "execution_count": 1,
      "outputs": [
        {
          "text": "The new line character is \"\n\"\n",
          "name": "stdout",
          "output_type": "stream"
        }
      ]
    },
    {
      "metadata": {
        "trusted": true
      },
      "cell_type": "code",
      "source": "# [ ] print output that is exactly (with quotes): \"That's how we escape!\"\nprint('\"That's how we escape!\"')\n",
      "execution_count": 2,
      "outputs": [
        {
          "ename": "SyntaxError",
          "evalue": "invalid syntax (<ipython-input-2-217a9b5bf9b6>, line 2)",
          "traceback": [
            "\u001b[0;36m  File \u001b[0;32m\"<ipython-input-2-217a9b5bf9b6>\"\u001b[0;36m, line \u001b[0;32m2\u001b[0m\n\u001b[0;31m    print('\"That's how we escape!\"')\u001b[0m\n\u001b[0m                 ^\u001b[0m\n\u001b[0;31mSyntaxError\u001b[0m\u001b[0;31m:\u001b[0m invalid syntax\n"
          ],
          "output_type": "error"
        }
      ]
    },
    {
      "metadata": {
        "trusted": false
      },
      "cell_type": "code",
      "source": "# [ ] with only 1 print statement and using No Space Characters, output the text commented below  \n\n# 1       one\n# 22      two\n# 333     three\n\n",
      "execution_count": null,
      "outputs": []
    },
    {
      "metadata": {},
      "cell_type": "markdown",
      "source": "# &nbsp;\n## Program: quote_me() Function\nquote_me takes a string argument and returns a string that will display surrounded with **added double quotes** if printed  \n- check if passed string starts with a double quote (`\"\\\"\"`), then surround string with single quotations \n- if the passed string starts with single quote, or if doesn't start with a quotation mark, then surround with double quotations  \n\nTest the function code passing string input as the argument to quote_me() "
    },
    {
      "metadata": {
        "trusted": false
      },
      "cell_type": "code",
      "source": "# [ ] create and test quote_me()\n\n\n",
      "execution_count": null,
      "outputs": []
    },
    {
      "metadata": {},
      "cell_type": "markdown",
      "source": "# &nbsp;\n### Program: shirt order \nFirst get input for color and size  \n- White has sizes L, M \n- Blue has sizes M, S  \n\nprint available or unavailable, then  \nprint the order confirmation of color and size  \n\n*\n**hint**: set a variable \"available = False\" before nested if statements and  \nchange to True if color and size are avaliable*"
    },
    {
      "metadata": {
        "scrolled": true,
        "trusted": true
      },
      "cell_type": "code",
      "source": "# [ ] create shirt order using nested if \nx=input(\"Input the color required...(White,Blue)\").title()\ny=input(\"Input the size required..(S,M,L)\").upper()\n\n\nif x==\"White\":\n    if y==\"M\" or \"L\":\n        print(\"Your Shirt is Available..\")\n        print(\"Your Shirt Order is confirmed..\\n of color\",x,\"and size\",y)\n    else:\n        print(\"Your Shirt is Unavailable..\")\nelif x==\"Blue\":\n    if y==\"M\" or \"S\":\n        print(\"Your Shirt is Availble..\")\n        print(\"Your Shirt Order is confirmed..\\n of color\",x,\"and size\",y)\n    else:\n        print(\"Your Shirt is Unavailable at the moment..\")\nelse:\n    print(\"No color of your choice\")\n",
      "execution_count": 6,
      "outputs": [
        {
          "output_type": "stream",
          "name": "stdout",
          "text": "Input the color required...(White,Blue)green\nInput the size required..(S,M,L)s\nNo color of your choice\n"
        }
      ]
    },
    {
      "metadata": {},
      "cell_type": "markdown",
      "source": "# &nbsp;\n## Program: str_analysis() Function\nCreate the str_analysis() function that takes a string argument.  In the body of the function:\n- Check `if` string is digits  \n  - if digits: convert to `int` and check `if` greater than 99  \n    - if greater than 99, print a message about a \"big number\"  \n    - if not greater than 99, print message about \"small number\"    \n  - if not digits: check if string isalpha\n    - if isalpha print message about being all alpha\n    - if not isalpha print a message about being neither all alpha nor all digit  \n    \ncall the function with a string from user input "
    },
    {
      "metadata": {
        "trusted": true
      },
      "cell_type": "code",
      "source": "# [ ] create and test str_analysis()\ndef str_analysis():\n    r=input(\"Input something...\")\n    if r.isdigit()==True:\n        if int(r)>99:\n            print(\"Oh!! It is a big number..\")\n        else:\n            print(\"It is a small number...\")\n    elif r.isalpha()==True:\n        print(\"Oh!!It is all alphabets..\")\n    else:\n        print(\"It is neither all alphabets nor all digits\")\nstr_analysis()\n         ",
      "execution_count": 12,
      "outputs": [
        {
          "output_type": "stream",
          "name": "stdout",
          "text": "Input something...56\nIt is a small number...\n"
        }
      ]
    },
    {
      "metadata": {},
      "cell_type": "markdown",
      "source": "# &nbsp;  \n### Program: ticket_check() - finds out if a seat is available  \nCall ticket_check() function with 2 arguments: *section* and *seats* requested and return True or False  \n- **section** is a string and expects: general, floor\n- **seats** is an integer and expects: 1 - 10  \n\nCheck for valid section and seats\n- if section is *general* (or use startswith \"g\")  \n  - if seats is 1-10 return True \n- if section is *floor* (or use starts with \"f\")\n  - if seats is 1-4 return True  \n\notherwise return False"
    },
    {
      "metadata": {
        "trusted": true
      },
      "cell_type": "code",
      "source": "# [ ] create and call ticket_check()\ndef ticket_check():\n    section=input(\"Which section you want('G' for general and 'F' for floor)\").upper()\n    seats=int(input(\"Which seat do you want..(1-10)\"))\n    if section.startswith('G')==True:\n        if seats >0 and seats<11:\n            return \"True\"\n        else:\n            return \"False\"\n    elif secton.startswith('F')==True:\n        if seats >0 and seats < 5:\n            return \"True\"\n        else:\n            return\"False\"\n    else:\n        return \"False\"\nprint(ticket_check())",
      "execution_count": null,
      "outputs": []
    },
    {
      "metadata": {},
      "cell_type": "markdown",
      "source": "[Terms of use](http://go.microsoft.com/fwlink/?LinkID=206977) &nbsp; [Privacy & cookies](https://go.microsoft.com/fwlink/?LinkId=521839) &nbsp; © 2017 Microsoft"
    }
  ],
  "metadata": {
    "anaconda-cloud": {},
    "kernelspec": {
      "name": "python3",
      "display_name": "Python 3",
      "language": "python"
    },
    "language_info": {
      "mimetype": "text/x-python",
      "nbconvert_exporter": "python",
      "name": "python",
      "file_extension": ".py",
      "version": "3.5.4",
      "pygments_lexer": "ipython3",
      "codemirror_mode": {
        "version": 3,
        "name": "ipython"
      }
    }
  },
  "nbformat": 4,
  "nbformat_minor": 2
}