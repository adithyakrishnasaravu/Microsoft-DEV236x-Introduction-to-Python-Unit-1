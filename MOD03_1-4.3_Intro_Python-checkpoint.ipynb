{
  "cells": [
    {
      "metadata": {},
      "cell_type": "markdown",
      "source": "# 1-4.3 Intro Python\n## Conditionals \n- **`if`, `else`, `pass`**\n  - Conditionals using Boolean String Methods\n  - Comparison operators\n  - **String comparisons**\n\n----- \n\n><font size=\"5\" color=\"#00A0B2\"  face=\"verdana\"> <B>Student will be able to</B></font>  \n- **control code flow with `if`... `else` conditional logic**  \n  - using Boolean string methods (`.isupper(), .isalpha(), startswith()...`)  \n  - using comparison (`>, <, >=, <=, ==, !=`)  \n  - **using Strings in comparisons**  "
    },
    {
      "metadata": {},
      "cell_type": "markdown",
      "source": "# &nbsp;\n<font size=\"6\" color=\"#00A0B2\"  face=\"verdana\"> <B>Concept</B></font>\n## String Comparisons\n- ### Strings can be equal `==` or unequal `!=`\n- ### Strings can be greater than `>` or less than `<` \n- ### alphabetically `\"A\"` is less than `\"B\"`\n- ### lower case `\"a\"` is greater than upper case `\"A\"`"
    },
    {
      "metadata": {},
      "cell_type": "markdown",
      "source": "# &nbsp;\n<font size=\"6\" color=\"#00A0B2\"  face=\"verdana\"> <B>Examples</B></font>"
    },
    {
      "metadata": {
        "trusted": true
      },
      "cell_type": "code",
      "source": "# review and run code\n\"hello\" < \"Hello\"",
      "execution_count": null,
      "outputs": []
    },
    {
      "metadata": {
        "trusted": true
      },
      "cell_type": "code",
      "source": "# review and run code\n\"Aardvark\" > \"Zebra\"",
      "execution_count": null,
      "outputs": []
    },
    {
      "metadata": {
        "trusted": true
      },
      "cell_type": "code",
      "source": "# review and run code\n'student' != 'Student'",
      "execution_count": null,
      "outputs": []
    },
    {
      "metadata": {
        "trusted": true
      },
      "cell_type": "code",
      "source": "# review and run code\nprint(\"'student' >= 'Student' is\", 'student' >= 'Student')\nprint(\"'student' != 'Student' is\", 'student' != 'Student')",
      "execution_count": null,
      "outputs": []
    },
    {
      "metadata": {
        "trusted": true
      },
      "cell_type": "code",
      "source": "# review and run code\n\"Hello \" + \"World!\" == \"Hello World!\"",
      "execution_count": null,
      "outputs": []
    },
    {
      "metadata": {},
      "cell_type": "markdown",
      "source": "# &nbsp;\n<font size=\"6\" color=\"#B24C00\"  face=\"verdana\"> <B>Task 1</B></font>\n## String Comparisons"
    },
    {
      "metadata": {
        "trusted": true
      },
      "cell_type": "code",
      "source": "msg = \"Hello\"\n# [ ] print the True/False results of testing if msg string equals \"Hello\" string\n\nif msg == \"Hello\":\n    print('msg=\"Hello\" is True')\nelse:\n    print('msg=\"Hello\" is not True')",
      "execution_count": null,
      "outputs": []
    },
    {
      "metadata": {
        "trusted": true
      },
      "cell_type": "code",
      "source": "greeting = \"Hello\"\n# [ ] get input for variable named msg, and ask user to 'Say \"Hello\"'\nmsg=input('Please Say \"Hello\"')\n# [ ] print the results of testing if msg string equals greeting string\nif greeting.lower()==msg.lower():\n    print(\"Yeah it has matched\")\nelse:\n    print(\"No it is differnt!!\")",
      "execution_count": null,
      "outputs": []
    },
    {
      "metadata": {},
      "cell_type": "markdown",
      "source": "# &nbsp;\n<font size=\"6\" color=\"#00A0B2\"  face=\"verdana\"> <B>Concept</B></font>\n## Conditionals: String comparisons with `if`\n[![view video](https://iajupyterprodblobs.blob.core.windows.net/imagecontainer/common/play_video.png)]( http://edxinteractivepage.blob.core.windows.net/edxpages/f7cff1a7-5601-48a1-95a6-fd1fdfabd20e.html?details=[{\"src\":\"http://jupyternootbookwams.streaming.mediaservices.windows.net/d66365b5-03fa-4d0d-a455-5adba8b8fb1b/Unit1_Section4.3-string-compare-if.ism/manifest\",\"type\":\"application/vnd.ms-sstr+xml\"}],[{\"src\":\"http://jupyternootbookwams.streaming.mediaservices.windows.net/d66365b5-03fa-4d0d-a455-5adba8b8fb1b/Unit1_Section4.3-string-compare-if.vtt\",\"srclang\":\"en\",\"kind\":\"subtitles\",\"label\":\"english\"}])\n"
    },
    {
      "metadata": {},
      "cell_type": "markdown",
      "source": "# &nbsp;\n<font size=\"6\" color=\"#00A0B2\"  face=\"verdana\"> <B>Examples</B></font>"
    },
    {
      "metadata": {
        "trusted": true
      },
      "cell_type": "code",
      "source": "# [ ] review and run code\nmsg = \"Save the notebook\"\n\nif msg.lower() == \"save the notebook\":\n    print(\"message as expected\")\nelse:\n    print(\"message not as expected\")",
      "execution_count": null,
      "outputs": []
    },
    {
      "metadata": {
        "trusted": true
      },
      "cell_type": "code",
      "source": "# [ ] review and run code\nmsg = \"Save the notebook\"\nprediction = \"save the notebook\"\n\nif msg.lower() == prediction.lower():\n    print(\"message as expected\")\nelse:\n    print(\"message not as expected\")",
      "execution_count": null,
      "outputs": []
    },
    {
      "metadata": {},
      "cell_type": "markdown",
      "source": "# &nbsp;\n<font size=\"6\" color=\"#B24C00\"  face=\"verdana\"> <B>Task 2</B></font>\n## Conditionals: comparison operators with if\n"
    },
    {
      "metadata": {
        "trusted": true
      },
      "cell_type": "code",
      "source": "# [ ] get input for a variable, answer, and ask user 'What is 8 + 13? : '\nanswer=int(input(\" What is8+13?\"))\n# [ ] print messages for correct answer \"21\" or incorrect answer using if/else\n# note: input returns a \"string\"\nif answer==21:\n           \n    print(\"Yes, The Right Aswer is 21\")\nelse:\n    print(\"No,The Right Answer is 21\")\n",
      "execution_count": null,
      "outputs": []
    },
    {
      "metadata": {},
      "cell_type": "markdown",
      "source": "# &nbsp;  \n<font size=\"6\" color=\"#B24C00\"  face=\"verdana\"> <B>Task 3</B></font>  \n## Program: True False Quiz Function\nCall the tf_quiz function with 2 arguments\n- T/F question string \n- answer key string like \"T\"  \n\nReturn a string: \"correct\" or incorrect\"\n[![view video](https://iajupyterprodblobs.blob.core.windows.net/imagecontainer/common/play_video.png)]( http://edxinteractivepage.blob.core.windows.net/edxpages/f7cff1a7-5601-48a1-95a6-fd1fdfabd20e.html?details=[{\"src\":\"http://jupyternootbookwams.streaming.mediaservices.windows.net/3805cc48-f5c9-4ec8-86ad-1e1db45788e4/Unit1_Section4.3-TF-quiz.ism/manifest\",\"type\":\"application/vnd.ms-sstr+xml\"}],[{\"src\":\"http://jupyternootbookwams.streaming.mediaservices.windows.net/3805cc48-f5c9-4ec8-86ad-1e1db45788e4/Unit1_Section4.3-TF-quiz.vtt\",\"srclang\":\"en\",\"kind\":\"subtitles\",\"label\":\"english\"}])\n### Define and use `tf_quiz()` function  \n- **`tf_quiz()`** has **2 parameters** which are both string arguments  \n  - **`question`**: a string containg a T/F question like \"Should save your notebook after edit?(T/F): \"  \n  - **`correct_ans`**: a string indicating the *correct answer*, either **\"T\"** or **\"F\"** \n- **`tf_quiz()`** returns a string:  \"correct\" or \"incorrect\"\n- Test tf_quiz(): **create a T/F question** (*or several!*) to **call tf_quiz()**  \n"
    },
    {
      "metadata": {
        "trusted": true
      },
      "cell_type": "code",
      "source": "# [ ] Create the program, run tests\ndef tf_quiz(question,correct_ans):\n    correct_ans =input(\"Should save your notebook after edit?(T/F): \")\n   \n    if correct_ans==\"T\":\n        return \"correct\"\n    \n    else:\n        return \"incorrect\"\n\nx=tf_quiz(\"Should save your notebook after edit?(T/F): \",\"T\")\nprint(\"Your answer is\",x)",
      "execution_count": 17,
      "outputs": [
        {
          "text": "Your answer is None\n",
          "name": "stdout",
          "output_type": "stream"
        }
      ]
    },
    {
      "metadata": {},
      "cell_type": "markdown",
      "source": "[Terms of use](http://go.microsoft.com/fwlink/?LinkID=206977) &nbsp; [Privacy & cookies](https://go.microsoft.com/fwlink/?LinkId=521839) &nbsp; © 2017 Microsoft"
    }
  ],
  "metadata": {
    "anaconda-cloud": {},
    "kernelspec": {
      "name": "python3",
      "display_name": "Python 3",
      "language": "python"
    },
    "language_info": {
      "mimetype": "text/x-python",
      "nbconvert_exporter": "python",
      "name": "python",
      "pygments_lexer": "ipython3",
      "version": "3.5.4",
      "file_extension": ".py",
      "codemirror_mode": {
        "version": 3,
        "name": "ipython"
      }
    }
  },
  "nbformat": 4,
  "nbformat_minor": 2
}