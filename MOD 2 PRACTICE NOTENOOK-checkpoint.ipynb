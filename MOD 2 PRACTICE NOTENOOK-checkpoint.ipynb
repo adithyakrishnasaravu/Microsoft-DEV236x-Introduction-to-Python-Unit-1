{
  "cells": [
    {
      "metadata": {
        "trusted": true
      },
      "cell_type": "code",
      "source": "fish_entry=input(\"Which fish do you want??\")\nprice_entry=input(\"What is the price??\")\ndef fishstore(fish,price):\n    a=('FISH TYPE:'+fish+' costs $'+price)\n    return a\nprint(fishstore(fish_entry,price_entry))\n ",
      "execution_count": 5,
      "outputs": [
        {
          "output_type": "stream",
          "name": "stdout",
          "text": "Which fish do you want??salmon\nWhat is the price??78\nFISH TYPE:salmon costs $78\n"
        }
      ]
    },
    {
      "metadata": {
        "trusted": true
      },
      "cell_type": "code",
      "source": "",
      "execution_count": null,
      "outputs": []
    }
  ],
  "metadata": {
    "kernelspec": {
      "name": "python36",
      "display_name": "Python 3.6",
      "language": "python"
    },
    "language_info": {
      "mimetype": "text/x-python",
      "nbconvert_exporter": "python",
      "name": "python",
      "pygments_lexer": "ipython3",
      "version": "3.6.6",
      "file_extension": ".py",
      "codemirror_mode": {
        "version": 3,
        "name": "ipython"
      }
    }
  },
  "nbformat": 4,
  "nbformat_minor": 2
}