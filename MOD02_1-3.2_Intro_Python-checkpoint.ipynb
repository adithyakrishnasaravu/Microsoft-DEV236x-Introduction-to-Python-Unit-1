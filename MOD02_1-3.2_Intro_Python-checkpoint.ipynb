{
  "cells": [
    {
      "metadata": {},
      "cell_type": "markdown",
      "source": "# 1-3.2 Intro Python\n## Functions Arguments & Parameters\n- Creating a simple Function with a parameter\n- **Exploring Functions with `return` values**  \n- **Creating Functions with multiple parameters**  \n- Sequence in python  \n\n-----\n\n><font size=\"5\" color=\"#00A0B2\"  face=\"verdana\"> <B>Student will be able to</B></font>  \n- create functions with a parameter  \n- **create functions with a `return` value**\n- **create functions with multiple parameters**\n- use knowledge of sequence in coding tasks \n- Use coding best practices "
    },
    {
      "metadata": {},
      "cell_type": "markdown",
      "source": "# &nbsp;\n<font size=\"6\" color=\"#00A0B2\"  face=\"verdana\"> <B>Concepts</B></font>\n## Calling a function with a return value  \n\n[![view video](https://iajupyterprodblobs.blob.core.windows.net/imagecontainer/common/play_video.png)]( http://edxinteractivepage.blob.core.windows.net/edxpages/f7cff1a7-5601-48a1-95a6-fd1fdfabd20e.html?details=[{\"src\":\"http://jupyternootbookwams.streaming.mediaservices.windows.net/db990568-d940-4ede-a063-7e40ed25c978/Unit1_Section3.2-function-return.ism/manifest\",\"type\":\"application/vnd.ms-sstr+xml\"}],[{\"src\":\"http://jupyternootbookwams.streaming.mediaservices.windows.net/db990568-d940-4ede-a063-7e40ed25c978/Unit1_Section3.2-function-return.vtt\",\"srclang\":\"en\",\"kind\":\"subtitles\",\"label\":\"english\"}])\n- **`type()`** returns an object type\n-  **`type()`** can be called with a float the return value can be stored in a variable\n```python\nobject_type = type(2.33)\n```  \n\n## creating a function with a return value  \n- **`return`** keyword in a function *returns* a value after *exiting* the function  \n\n```python\ndef msg_double(phrase):\n      double = phrase + \" \" + phrase\n      return double\n```  \n"
    },
    {
      "metadata": {},
      "cell_type": "markdown",
      "source": "## &nbsp;\n<font size=\"6\" color=\"#00A0B2\"  face=\"verdana\"> <B>Example</B></font>  \n  \nreview and run the code"
    },
    {
      "metadata": {
        "trusted": true
      },
      "cell_type": "code",
      "source": "# Message double returns the string Argument doubled\ndef msg_double(phrase):\n    double = phrase + \" \" + phrase\n    return double\n\n# save return value in variable\nmsg_2x = msg_double(\"let's go\")\nprint(msg_2x)",
      "execution_count": 1,
      "outputs": [
        {
          "output_type": "stream",
          "text": "let's go let's go\n",
          "name": "stdout"
        }
      ]
    },
    {
      "metadata": {
        "trusted": true
      },
      "cell_type": "code",
      "source": "# example of functions with return values used in functions\ndef msg_double(phrase):\n    double = phrase + \" \" + phrase\n    return double\n\n# prints the returned object\nprint(msg_double(\"Save Now!\"))\n\n# echo the type of the returned object\ntype(msg_double(\"Save Now!\"))",
      "execution_count": null,
      "outputs": []
    },
    {
      "metadata": {},
      "cell_type": "markdown",
      "source": "# &nbsp;\n<font size=\"6\" color=\"#B24C00\"  face=\"verdana\"> <B>Task 1</B></font>\n\n## Doctor: a function that adds the \"Doctor\" title to a name\n- Define function `make_doctor()`&nbsp; that takes a parameter `name`\n- get user **input** for variable **`full_name`**\n- call the function using `full_name` &nbsp; as argument\n- print the return value"
    },
    {
      "metadata": {
        "trusted": true
      },
      "cell_type": "code",
      "source": "# create and call make_doctor() with full_name argument from user input - then print the return value\nfull_name=input(\"Please enter your full name...\")\ndef make_doctor(name):\n    x=(\"hi\",name,full_name,\"how are you\")\n    return x\n  \nprint(make_doctor(\"dr.\".upper()))\n\n\n",
      "execution_count": null,
      "outputs": []
    },
    {
      "metadata": {
        "trusted": true
      },
      "cell_type": "code",
      "source": "# &nbsp;\n<font size=\"6\" color=\"#00A0B2\"  face=\"verdana\"> <B>Concepts</B></font>\n## Functions with multiple parameters\nFunctions can have multiple parameters separated by commas\n\n[![view video](https://iajupyterprodblobs.blob.core.windows.net/imagecontainer/common/play_video.png)]( http://edxinteractivepage.blob.core.windows.net/edxpages/f7cff1a7-5601-48a1-95a6-fd1fdfabd20e.html?details=[{\"src\":\"http://jupyternootbookwams.streaming.mediaservices.windows.net/d82c3856-61ff-4fa3-9a20-df8f6ea4dd7a/Unit1_Section3.2-MultiParam_Function.ism/manifest\",\"type\":\"application/vnd.ms-sstr+xml\"}],[{\"src\":\"http://jupyternootbookwams.streaming.mediaservices.windows.net/d82c3856-61ff-4fa3-9a20-df8f6ea4dd7a/Unit1_Section3.2-MultiParam_Function.vtt\",\"srclang\":\"en\",\"kind\":\"subtitles\",\"label\":\"english\"}])",
      "execution_count": null,
      "outputs": []
    },
    {
      "metadata": {
        "collapsed": true
      },
      "cell_type": "markdown",
      "source": "## &nbsp;\n<font size=\"6\" color=\"#00A0B2\"  face=\"verdana\"> <B>Example</B></font>  \n  \nreview and run the code"
    },
    {
      "metadata": {
        "trusted": true
      },
      "cell_type": "code",
      "source": "def make_schedule(period1, period2):\n    schedule = (\"[1st] \" + period1.title() + \", [2nd] \" + period2.title())\n    return schedule\n\nstudent_schedule = make_schedule(\"mathematics\", \"history\")\nprint(\"SCHEDULE:\", student_schedule)",
      "execution_count": null,
      "outputs": []
    },
    {
      "metadata": {
        "collapsed": true
      },
      "cell_type": "markdown",
      "source": "# &nbsp;\n<font size=\"6\" color=\"#B24C00\"  face=\"verdana\"> <B>Task 2</B></font>\n\n## Define `make_schedule()` adding a 3rd period to &nbsp; \n- Start with the above example code\n- add a parameter period_3\n- update function code to add period_3 to the schedule\n- call **`student_schedule()`** with an additional argument such as 'science'\n- print the schedule"
    },
    {
      "metadata": {
        "trusted": true
      },
      "cell_type": "code",
      "source": "# [ ] add a 3rd period parameter to make_schedule\ndef make_schedule(period1,period2,period_3):\n    schedule=(\"[1st] \" + period1.title() + \", [2nd] \" + period2.title()+\"and [3rd]\"+period_3.title())\n    return schedule\n    \n    student_schedule=make_schedule(\"Maths\",\"Physics\",\"Science\")\n    print(\"SCHEDULE:\",student_schedule)\n# [ ] Optional - print a schedule for 6 classes (Tip: perhaps let the function make this easy)\n\n\n\n\n\n",
      "execution_count": 1,
      "outputs": []
    },
    {
      "metadata": {
        "trusted": true
      },
      "cell_type": "code",
      "source": "def half_value(value):\n    return value/2\nprint(half_value(42))",
      "execution_count": 6,
      "outputs": [
        {
          "output_type": "stream",
          "text": "21.0\n",
          "name": "stdout"
        }
      ]
    },
    {
      "metadata": {},
      "cell_type": "markdown",
      "source": "[Terms of use](http://go.microsoft.com/fwlink/?LinkID=206977) &nbsp; [Privacy & cookies](https://go.microsoft.com/fwlink/?LinkId=521839) &nbsp; © 2017 Microsoft"
    }
  ],
  "metadata": {
    "anaconda-cloud": {},
    "kernelspec": {
      "name": "python3",
      "display_name": "Python 3",
      "language": "python"
    },
    "language_info": {
      "mimetype": "text/x-python",
      "nbconvert_exporter": "python",
      "name": "python",
      "pygments_lexer": "ipython3",
      "version": "3.5.4",
      "file_extension": ".py",
      "codemirror_mode": {
        "version": 3,
        "name": "ipython"
      }
    }
  },
  "nbformat": 4,
  "nbformat_minor": 1
}