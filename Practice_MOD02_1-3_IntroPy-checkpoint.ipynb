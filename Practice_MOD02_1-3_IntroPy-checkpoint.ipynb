{
  "cells": [
    {
      "metadata": {},
      "cell_type": "markdown",
      "source": "# 1-3 Intro Python Practice\n## Functions Arguments & Parameters\n<font size=\"5\" color=\"#00A0B2\"  face=\"verdana\"> <B>Student will be able to</B></font>  \n- **create functions with a parameter**  \n- **create functions with a `return` value** \n- **create functions with multiple parameters**\n- **use knowledge of sequence in coding tasks**  \n- **use coding best practices** "
    },
    {
      "metadata": {},
      "cell_type": "markdown",
      "source": "## &nbsp;\n<font size=\"6\" color=\"#B24C00\"  face=\"verdana\"> <B>Tasks</B></font>"
    },
    {
      "metadata": {
        "trusted": true
      },
      "cell_type": "code",
      "source": "# [ ] define and call a function short_rhyme() that prints a 2 line rhyme\ndef short_rhyme(rhyme):\n    x=rhyme\n    return x\ny=short_rhyme(\"One, two, three, four, five,Once I caught a fish alive,Six, seven, eight, nine, ten,Then I let go again\")\nprint(y)",
      "execution_count": 18,
      "outputs": [
        {
          "output_type": "stream",
          "text": "One, two, three, four, five,Once I caught a fish alive,Six, seven, eight, nine, ten,Then I let go again\n",
          "name": "stdout"
        }
      ]
    },
    {
      "metadata": {
        "trusted": true
      },
      "cell_type": "code",
      "source": "# [ ] define (def) a simple function: title_it() and call the function\n# - has a string parameter: msg\n# - prints msg in Title Case\ndef title_it(msg):\n    a=msg\n    return a\nb=title_it('msg')\nprint(b.title())\n",
      "execution_count": 23,
      "outputs": [
        {
          "output_type": "stream",
          "text": "Msg\n",
          "name": "stdout"
        }
      ]
    },
    {
      "metadata": {
        "trusted": true
      },
      "cell_type": "code",
      "source": "# [ ] get user input with prompt \"what is the title?\" \n# [ ] call title_it() using input for the string argument\nx=input(\"what is the title?\")\ntitle_it(x)",
      "execution_count": 24,
      "outputs": [
        {
          "output_type": "stream",
          "name": "stdout",
          "text": "what is the title?Nation\n"
        },
        {
          "output_type": "execute_result",
          "execution_count": 24,
          "data": {
            "text/plain": "'Nation'"
          },
          "metadata": {}
        }
      ]
    },
    {
      "metadata": {
        "trusted": true
      },
      "cell_type": "code",
      "source": "# [ ] define title_it_rtn() which returns a titled string instead of printing\n# [ ] call title_it_rtn() using input for the string argumetnt and print the result\ndef title_it_rtn(title):\n    a=title\n    return a\n\nx=input(\"what is the title?\")\nprint(title_it_rtn(x))\n",
      "execution_count": 28,
      "outputs": [
        {
          "output_type": "stream",
          "name": "stdout",
          "text": "what is the title?Adithya\nAdithya\n"
        }
      ]
    },
    {
      "metadata": {
        "trusted": true
      },
      "cell_type": "code",
      "source": "## Program: bookstore()\ncreate and test bookstore()\n- **bookstore() takes 2 string arguments: book & price**\n- **bookstore returns a string in sentence form** \n- **bookstore() should call title_it_rtn()** with book parameter  \n- **gather input for book_entry and price_entry to use in calling bookstore()**\n- **print the return value of bookstore()**\n>example of output: **`Title: The Adventures Of Sherlock Holmes, costs $12.99`**",
      "execution_count": null,
      "outputs": []
    },
    {
      "metadata": {
        "trusted": true
      },
      "cell_type": "code",
      "source": "# [ ] create, call and test bookstore() function\ndef bookstore(title_it_return('book'),'price'):\n    c='book','price'\n    return c\n\n    book_entry=input(\"Name of the book..\")\n    price_entry=input(\"What is the price?\")\n    \n    \n    bookstore(book_entry,price_entry)\n",
      "execution_count": 43,
      "outputs": [
        {
          "output_type": "error",
          "ename": "SyntaxError",
          "evalue": "invalid syntax (<ipython-input-43-4330c4bb894b>, line 2)",
          "traceback": [
            "\u001b[0;36m  File \u001b[0;32m\"<ipython-input-43-4330c4bb894b>\"\u001b[0;36m, line \u001b[0;32m2\u001b[0m\n\u001b[0;31m    def bookstore(title_it_return('book'),'price'):\u001b[0m\n\u001b[0m                                 ^\u001b[0m\n\u001b[0;31mSyntaxError\u001b[0m\u001b[0;31m:\u001b[0m invalid syntax\n"
          ]
        }
      ]
    },
    {
      "metadata": {},
      "cell_type": "markdown",
      "source": "### Fix the error"
    },
    {
      "metadata": {
        "trusted": true
      },
      "cell_type": "code",
      "source": "def make_greeting(name, greeting = \"Hello\"):\n    return (greeting + \" \" + name + \"!\")\n\n# get name and greeting, send to make_greeting \n\n\ndef get_name():\n    name_entry = input(\"enter a name: \")\n    return name_entry\n\ndef get_greeting():\n    greeting_entry = input(\"enter a greeting: \")\n    return greeting_entry\n\n\nprint(make_greeting(get_name(), get_greeting()))\n\n\n",
      "execution_count": 42,
      "outputs": [
        {
          "output_type": "stream",
          "name": "stdout",
          "text": "enter a name: Adithya\nenter a greeting: Hi Conga\nHi Conga Adithya!\n"
        }
      ]
    },
    {
      "metadata": {},
      "cell_type": "markdown",
      "source": "\n[Terms of use](http://go.microsoft.com/fwlink/?LinkID=206977) &nbsp; [Privacy & cookies](https://go.microsoft.com/fwlink/?LinkId=521839) &nbsp; © 2017 Microsoft"
    }
  ],
  "metadata": {
    "anaconda-cloud": {},
    "kernelspec": {
      "name": "python3",
      "display_name": "Python 3",
      "language": "python"
    },
    "language_info": {
      "mimetype": "text/x-python",
      "nbconvert_exporter": "python",
      "name": "python",
      "file_extension": ".py",
      "version": "3.5.4",
      "pygments_lexer": "ipython3",
      "codemirror_mode": {
        "version": 3,
        "name": "ipython"
      }
    }
  },
  "nbformat": 4,
  "nbformat_minor": 1
}