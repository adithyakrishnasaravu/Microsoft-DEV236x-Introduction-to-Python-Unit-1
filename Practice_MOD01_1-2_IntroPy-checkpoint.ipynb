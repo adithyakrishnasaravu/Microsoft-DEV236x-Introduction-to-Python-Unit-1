{
  "cells": [
    {
      "metadata": {},
      "cell_type": "markdown",
      "source": "# 1-2 Intro Python Practice\n## Strings: input, testing, formatting\n<font size=\"5\" color=\"#00A0B2\"  face=\"verdana\"> <B>Student will be able to</B></font>\n- gather, store and use string `input()`  \n- format `print()` output  \n- test string characteristics  \n- format string output  \n- search for a string in a string  "
    },
    {
      "metadata": {},
      "cell_type": "markdown",
      "source": "## input()\ngetting input from users"
    },
    {
      "metadata": {
        "scrolled": true,
        "trusted": true
      },
      "cell_type": "code",
      "source": "# [ ] get user input for a variable named remind_me\nremind_me=input(\"what should I remind you??\")\n\n# [ ] print the value of the variable remind_me\nprint(remind_me)\n",
      "execution_count": null,
      "outputs": []
    },
    {
      "metadata": {
        "trusted": true
      },
      "cell_type": "code",
      "source": "# use string addition to print \"remember: \" before the remind_me input string\nprint(\"remember:\"+remind_me)\n\n",
      "execution_count": null,
      "outputs": []
    },
    {
      "metadata": {},
      "cell_type": "markdown",
      "source": "### Program: Meeting Details\n#### [ ] get user **input** for meeting subject and time\n`what is the meeting subject?: plan for graduation`  \n`what is the meeting time?: 3:00 PM on Monday`  \n\n#### [ ] print **output** with descriptive labels  \n`Meeting Subject: plan for graduation`  \n`Meeting Time:    3:00 PM on Monday`"
    },
    {
      "metadata": {
        "trusted": true
      },
      "cell_type": "code",
      "source": "# [ ] get user input for 2 variables: meeting_subject and meeting_time\nmeeting_subject=input(\"what is the meeting about??\")\nmeeting_time=input(\"what time is meeting??\")\n\n# [ ] use string addition to print meeting subject and time with labels\n\nprint(\"The Meeting on\",meeting_subject,\"will be held at\",meeting_time)\n\n",
      "execution_count": null,
      "outputs": []
    },
    {
      "metadata": {},
      "cell_type": "markdown",
      "source": "## print() formatting \n### combining multiple strings separated by commas in the print() function"
    },
    {
      "metadata": {
        "trusted": true
      },
      "cell_type": "code",
      "source": "# [ ] print the combined strings \"Wednesday is\" and \"in the middle of the week\" \nprint(\"Wednesday is\",\"in the middle of the week\" )\n",
      "execution_count": null,
      "outputs": []
    },
    {
      "metadata": {
        "trusted": true
      },
      "cell_type": "code",
      "source": "# [ ] print combined string \"Remember to\" and the string variable remind_me from input above\nprint(\"Remember to\",remind_me)\n",
      "execution_count": null,
      "outputs": []
    },
    {
      "metadata": {
        "trusted": true
      },
      "cell_type": "code",
      "source": "# [ ] Combine 3 variables from above with multiple strings\n\nprint\n(remind_me,meeting_subject,meeting_time)",
      "execution_count": null,
      "outputs": []
    },
    {
      "metadata": {},
      "cell_type": "markdown",
      "source": "### print() quotation marks"
    },
    {
      "metadata": {
        "trusted": true
      },
      "cell_type": "code",
      "source": "# [ ] print a string sentence that will display an Apostrophe (')\n\nprint(\"scdvfbghnm'j\")\n",
      "execution_count": null,
      "outputs": []
    },
    {
      "metadata": {
        "trusted": false
      },
      "cell_type": "code",
      "source": "# [ ] print a string sentence that will display a quote(\") or quotes\n\n\n",
      "execution_count": null,
      "outputs": []
    },
    {
      "metadata": {},
      "cell_type": "markdown",
      "source": "## Boolean string tests"
    },
    {
      "metadata": {},
      "cell_type": "markdown",
      "source": "### Vehicle tests  \n#### get user input for a variable named vehicle  \nprint the following tests results  \n- check True or False if vehicle is All alphabetical characters using .isalpha()  \n- check True or False if vehicle is only All alphabetical & numeric characters  \n- check True or False if vehicle is Capitalized (first letter only)  \n- check True or False if vehicle is All lowercase  \n- **bonus** print description for each test (e.g.- `\"All Alpha: True\"`)"
    },
    {
      "metadata": {
        "trusted": true
      },
      "cell_type": "code",
      "source": "# [ ] complete vehicle tests \nvehicle=input(\"Which Vehicle do you have??\")\n\nvehicle.isalpha()\n\n\n",
      "execution_count": null,
      "outputs": []
    },
    {
      "metadata": {
        "trusted": true
      },
      "cell_type": "code",
      "source": "# [ ] print True or False if color starts with \"b\" \nvehicle_color=input(\"which color is your vehicle??\").lower()\nvehicle_color.startswith('b')\n",
      "execution_count": null,
      "outputs": []
    },
    {
      "metadata": {
        "collapsed": true,
        "trusted": false
      },
      "cell_type": "code",
      "source": "",
      "execution_count": null,
      "outputs": []
    },
    {
      "metadata": {},
      "cell_type": "markdown",
      "source": "## Sting formatting"
    },
    {
      "metadata": {
        "trusted": false
      },
      "cell_type": "code",
      "source": "# [ ] print the string variable capital_this Capitalizing only the first letter\ncapitalize_this = \"the TIME is Noon.\"\n\n",
      "execution_count": null,
      "outputs": []
    },
    {
      "metadata": {
        "trusted": false
      },
      "cell_type": "code",
      "source": "# print the string variable swap_this in swapped case\nswap_this = \"wHO writes LIKE tHIS?\"\n\n",
      "execution_count": null,
      "outputs": []
    },
    {
      "metadata": {
        "trusted": false
      },
      "cell_type": "code",
      "source": "# print the string variable whisper_this in all lowercase\nwhisper_this = \"Can you hear me?\"\n\n",
      "execution_count": null,
      "outputs": []
    },
    {
      "metadata": {
        "trusted": false
      },
      "cell_type": "code",
      "source": "# print the string variable yell_this in all UPPERCASE\nyell_this = \"Can you hear me Now!?\"\n\n",
      "execution_count": null,
      "outputs": []
    },
    {
      "metadata": {
        "trusted": false
      },
      "cell_type": "code",
      "source": "#format input using .upper(), .lower(), .swapcase, .capitalize()\nformat_input = input('enter a string to reformat: ')\n\n",
      "execution_count": null,
      "outputs": []
    },
    {
      "metadata": {},
      "cell_type": "markdown",
      "source": "### input() formatting"
    },
    {
      "metadata": {
        "trusted": false
      },
      "cell_type": "code",
      "source": "# [ ] get user input for a variable named color\n# [ ] modify color to be all lowercase and print\n\n",
      "execution_count": null,
      "outputs": []
    },
    {
      "metadata": {
        "trusted": false
      },
      "cell_type": "code",
      "source": "# [ ] get user input using variable remind_me and format to all **lowercase** and print\n# [ ] test using input with mixed upper and lower cases\n\n",
      "execution_count": null,
      "outputs": []
    },
    {
      "metadata": {
        "trusted": false
      },
      "cell_type": "code",
      "source": "# [] get user input for the variable yell_this and format as a \"YELL\" to ALL CAPS\n\n",
      "execution_count": null,
      "outputs": []
    },
    {
      "metadata": {
        "collapsed": true,
        "trusted": false
      },
      "cell_type": "code",
      "source": "",
      "execution_count": null,
      "outputs": []
    },
    {
      "metadata": {},
      "cell_type": "markdown",
      "source": "## \"in\" keyword\n### boolean: short_str in long_str"
    },
    {
      "metadata": {
        "trusted": true
      },
      "cell_type": "code",
      "source": "# [ ] get user input for the name of some animals in the variable animals_input\nanimals_input=input(\"Name few animals which you know...\")\n\n# [ ] print true or false if 'cat' is in the string variable animals_input\nprint('cat'.lower() in animals_input.lower())\n",
      "execution_count": null,
      "outputs": []
    },
    {
      "metadata": {
        "collapsed": true,
        "trusted": false
      },
      "cell_type": "code",
      "source": "# [ ] get user input for color\n\n\n# [ ] print True or False for starts with \"b\"\n\n\n# [ ] print color variable value exactly as input \n#     test with input: \"Blue\", \"BLUE\", \"bLUE\"\n\n\n\n",
      "execution_count": null,
      "outputs": []
    },
    {
      "metadata": {},
      "cell_type": "markdown",
      "source": "## Program: guess what I'm reading\n### short_str in long_str\n\n1. **[ ]** get user **`input`** for a single word describing something that can be read \n save in a variable called **can_read**  \n e.g. - \"website\", \"newspaper\", \"blog\", \"textbook\"  \n &nbsp;  \n2. **[ ]** get user **`input`** for 3 things can be read  \n save in a variable called **can_read_things**  \n&nbsp;  \n\n3. **[ ]** print **`true`** if the **can_read** string is found  \n **in** the **can_read_things** string variable\n  \n*example of program input and output*  \n[![01 02 practice Allergy-input](https://iajupyterprodblobs.blob.core.windows.net/imagecontainer/guess_reading.gif) ](https://1drv.ms/i/s!Am_KPRosgtaij7A_G6RtDlWZeYA3ZA)\n"
    },
    {
      "metadata": {
        "trusted": true
      },
      "cell_type": "code",
      "source": "# project: \"guess what I'm reading\"\n\n# 1[ ] get 1 word input for can_read variable\ncan_read=input(\"Name one thing which you read...\")\n\n# 2[ ] get 3 things input for can_read_things variable\ncan_read_things=input(\"Name three things which you read... \")\n\n# 3[ ] print True if can_read is in can_read_things\nprint(\"item found=\",can_read.lower() in can_read_things.lower()  )\n\n# [] challenge: format the output to read \"item found = True\" (or false)\n# hint: look print formatting exercises\n\n",
      "execution_count": null,
      "outputs": []
    },
    {
      "metadata": {},
      "cell_type": "markdown",
      "source": "## Program: Allergy Check\n\n1. **[ ]** get user **`input`** for categories of food eaten in the last 24 hours  \n save in a variable called **input_test**  \n *example input*\n [![01 02 practice Allergy-input](https://iajupyterprodblobs.blob.core.windows.net/imagecontainer/eaten_input.gif) ](https://1drv.ms/i/s!Am_KPRosgtaij65qzFD5CGvv95-ijg)\n&nbsp;  \n2. **[ ]** print **`True`** if \"dairy\" is in the **input_test** string  \n**[ ]** Test the code so far  \n&nbsp;\n3. **[ ]** modify the print statement to output similar to below  \n*example output*\n[![01 02 Allergy output](https://iajupyterprodblobs.blob.core.windows.net/imagecontainer/eaten_output.gif) ](https://1drv.ms/i/s!Am_KPRosgtaij65rET-wmlpCdMX7CQ)  \nTest the code so far trying input including the string \"dairy\" and without  \n&nbsp;  \n\n4. **[ ]** repeat the process checking the input for \"nuts\", **challenge** add \"Seafood\" and \"chocolate\"  \n**[ ]** Test your code  \n&nbsp;  \n  \n5. **[ ] challenge:** make your code work for input regardless of case, e.g. - print **`True`** for \"Nuts\", \"NuTs\", \"NUTS\" or \"nuts\"  \n"
    },
    {
      "metadata": {
        "trusted": true
      },
      "cell_type": "code",
      "source": "# Allergy check \n\n# 1[ ] get input for test\ninput_test=input(\"Name few things which you have eaten in the last 24 hrs:\")\n\n# 2/3[ ] print True if \"dairy\" is in the input or False if not\nprint(\"It is \",'dairy'.upper() in input_test.upper(),\"that\",input_test,\"contains dairy\")\n\n# 4[ ] Check if \"nuts\" are in the input\nprint('nuts'.upper() in input_test.upper())\n# 4+[ ] Challenge: Check if \"seafood\" is in the input\nprint('seafood'.upper() in input_test.upper())\n# 4+[ ] Challenge: Check if \"chocolate\" is in the input\nprint('chocolate'.upper() in input_test.upper())\n\n\n\n",
      "execution_count": 1,
      "outputs": [
        {
          "text": "It is  True that paneer,seafood,NUTs,CHICKEN,SOYA,CHOCOlate,Dairy contains dairy\nTrue\nTrue\nTrue\n",
          "name": "stdout",
          "output_type": "stream"
        }
      ]
    },
    {
      "metadata": {},
      "cell_type": "markdown",
      "source": "[Terms of use](http://go.microsoft.com/fwlink/?LinkID=206977) &nbsp; [Privacy & cookies](https://go.microsoft.com/fwlink/?LinkId=521839) &nbsp; © 2017 Microsoft"
    }
  ],
  "metadata": {
    "anaconda-cloud": {},
    "kernelspec": {
      "name": "python3",
      "display_name": "Python 3",
      "language": "python"
    },
    "language_info": {
      "mimetype": "text/x-python",
      "nbconvert_exporter": "python",
      "name": "python",
      "file_extension": ".py",
      "version": "3.5.4",
      "pygments_lexer": "ipython3",
      "codemirror_mode": {
        "version": 3,
        "name": "ipython"
      }
    }
  },
  "nbformat": 4,
  "nbformat_minor": 2
}