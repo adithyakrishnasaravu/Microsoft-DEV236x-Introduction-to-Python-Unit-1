{
  "cells": [
    {
      "metadata": {},
      "cell_type": "markdown",
      "source": "# &nbsp;  \n<font size=\"6\" color=\"#B24C00\"  face=\"verdana\"> <B>Tasks</B></font>"
    },
    {
      "metadata": {},
      "cell_type": "markdown",
      "source": "### Rainbow colors\nask for input of a favorite rainbow color first letter: ROYGBIV  \n\nUsing `if`, `elif`, and `else`:  \n- print the color matching the letter  \n    - R = Red  \n    - O = Orange  \n    - Y = Yellow  \n    - G = Green\n    - B = Blue\n    - I = Indigo\n    - V = Violet\n    - else print \"no match\"\n"
    },
    {
      "metadata": {
        "trusted": true
      },
      "cell_type": "code",
      "source": "# [ ] complete rainbow colors\nx=input(\"Input the first letter of your favourite rainbow color(ROYGBIV)\")\nif x==\"R\":\n    print(\"Your favourite color is Red\")\nelif x==\"O\":\n    print(\"Your favourite color is Orange\")\nelif x==\"Y\":\n    print(\"Your favourite color is Yellow\")\nelif x==\"G\":\n    print(\"Your favourite color is Green\")\nelif x==\"B\":\n    print(\"Your favourite color is Blue\")\nelif x==\"I\":\n    print(\"Your favourite color is Indigo\")\nelif x==\"V\":\n    print(\"Your favourite color is Violet\")\nelse:\n    print(\"No Match\")\n",
      "execution_count": 2,
      "outputs": [
        {
          "output_type": "stream",
          "name": "stdout",
          "text": "Input the first letter of your favourite rainbow color(ROYGBIV)A\nNo Match\n"
        }
      ]
    },
    {
      "metadata": {
        "trusted": true
      },
      "cell_type": "code",
      "source": "# [ ] make the code above into a function rainbow_color() that has a string parameter, \n# get input and call the function and return the matching color as a string or \"no match\" message.\n# Call the function and print the return string.\nx=input(\"Input the first letter of your favourite rainbow color(ROYGBIV)\").upper()\ndef rainbow_color(string):\n    \n    if x==\"R\":\n        return(\"Your favourite color is Red\")\n    elif x==\"O\":\n        return(\"Your favourite color is Orange\")\n    elif x==\"Y\":\n        return(\"Your favourite color is Yellow\")\n    elif x==\"G\":\n        return(\"Your favourite color is Green\")\n    elif x==\"B\":\n        return(\"Your favourite color is Blue\")\n    elif x==\"I\":\n        return(\"Your favourite color is Indigo\")\n    elif x==\"V\":\n        return(\"Your favourite color is Violet\")\n    else:\n        return(\"No Match\")\nprint(rainbow_color(x))",
      "execution_count": 26,
      "outputs": [
        {
          "output_type": "stream",
          "name": "stdout",
          "text": "Input the first letter of your favourite rainbow color(ROYGBIV)r\nYour favourite color is Red\n"
        }
      ]
    },
    {
      "metadata": {},
      "cell_type": "markdown",
      "source": "# &nbsp;  \n**Create function age_20() that adds or subtracts 20 from your age for a return value based on current age** (use `if`) \n- call the funtion with user input and then use the return value in a sentence  \nexample `age_20(25)` returns **5**: \n> \"5 years old, 20 years difference from now\""
    },
    {
      "metadata": {
        "trusted": true
      },
      "cell_type": "code",
      "source": "# [ ] complete age_20()\na=input(\"Input your current age...\")\ndef age_20(a):\n    a=int(a)\n    if int(a)<20:\n        return(a+20)\n    else:\n        return(a-20)\nprint(age_20(a))",
      "execution_count": 27,
      "outputs": [
        {
          "output_type": "stream",
          "name": "stdout",
          "text": "Input your current age...78\n58\n"
        }
      ]
    },
    {
      "metadata": {},
      "cell_type": "markdown",
      "source": "**create a function rainbow_or_age that takes a string argument**\n- if argument is a digit return the value of calling age_20() with the str value cast as **`int`** \n- if argument is an alphabetical character return the value of calling rainbow_color() with the str\n- if neither return FALSE"
    },
    {
      "metadata": {
        "trusted": true
      },
      "cell_type": "code",
      "source": "# [ ]  create rainbow_or_age()\ndef rainbow_or_age():\n    stri=input('Input a digit')\n    if stri.isdigit()==True:\n        return(age_20(a))\n    elif stri.isalpha()==True:\n        return(rainbow_color(x))\n    else:\n        return False\nprint(rainbow_or_age())",
      "execution_count": 30,
      "outputs": [
        {
          "output_type": "stream",
          "name": "stdout",
          "text": "Input a digitaa\nYour favourite color is Red\n"
        }
      ]
    },
    {
      "metadata": {
        "trusted": false
      },
      "cell_type": "code",
      "source": "# [ ]  add 2 numbers from input using a cast to integer and display the answer \n\n",
      "execution_count": null,
      "outputs": []
    },
    {
      "metadata": {
        "trusted": false
      },
      "cell_type": "code",
      "source": "# [ ] Multiply 2 numbers from input using cast and save the answer as part of a string \"the answer is...\"\n# display the string using print\n\n",
      "execution_count": null,
      "outputs": []
    },
    {
      "metadata": {
        "trusted": false
      },
      "cell_type": "code",
      "source": "# [ ] get input of 2 numbers and display the average: (num1 + num2) divided by 2\n\n",
      "execution_count": null,
      "outputs": []
    },
    {
      "metadata": {
        "trusted": false
      },
      "cell_type": "code",
      "source": "# [ ] get input of 2 numbers and subtract the largest from the smallest (use an if statement to see which is larger)\n# show the answer\n\n",
      "execution_count": null,
      "outputs": []
    },
    {
      "metadata": {
        "trusted": false
      },
      "cell_type": "code",
      "source": "# [ ] Divide a larger number by a smaller number and print the integer part of the result\n# don't divide by zero! if a zero is input make the result zero\n# [ ] cast the answer to an integer to cut off the decimals and print the result\n\n",
      "execution_count": null,
      "outputs": []
    },
    {
      "metadata": {},
      "cell_type": "markdown",
      "source": "[Terms of use](http://go.microsoft.com/fwlink/?LinkID=206977) &nbsp; [Privacy & cookies](https://go.microsoft.com/fwlink/?LinkId=521839) &nbsp; © 2017 Microsoft"
    }
  ],
  "metadata": {
    "anaconda-cloud": {},
    "kernelspec": {
      "name": "python3",
      "display_name": "Python 3",
      "language": "python"
    },
    "language_info": {
      "mimetype": "text/x-python",
      "nbconvert_exporter": "python",
      "name": "python",
      "pygments_lexer": "ipython3",
      "version": "3.5.4",
      "file_extension": ".py",
      "codemirror_mode": {
        "version": 3,
        "name": "ipython"
      }
    }
  },
  "nbformat": 4,
  "nbformat_minor": 1
}