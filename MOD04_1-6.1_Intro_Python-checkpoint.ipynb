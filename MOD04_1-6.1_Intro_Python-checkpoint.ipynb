{
  "cells": [
    {
      "metadata": {},
      "cell_type": "markdown",
      "source": "# 1-6.1 Intro Python\n## Nested Conditionals\n-  Nested Conditionals  \n- Escape Sequence print formatting \"\\\\\"\n\n><font size=\"5\" color=\"#00A0B2\"  face=\"verdana\"> <B>Student will be able to</B></font>\n- create nested conditional logic in code  \n- format print output using escape \"\\\\\" sequence "
    },
    {
      "metadata": {},
      "cell_type": "markdown",
      "source": "# &nbsp;\n<font size=\"6\" color=\"#00A0B2\"  face=\"verdana\"> <B>Concepts</B></font>\n## nested conditionals\n# Video: Unit1_Section6.1-nested-conditionals.mp4\n### nested conditionals\n**if**  \n**&nbsp;&nbsp;&nbsp;&nbsp;if**  \n**&nbsp;&nbsp;&nbsp;&nbsp;&nbsp;&nbsp;&nbsp;&nbsp;if**  \n**&nbsp;&nbsp;&nbsp;&nbsp;&nbsp;&nbsp;&nbsp;&nbsp;else**  \n**&nbsp;&nbsp;&nbsp;&nbsp;else**  \n**else**  \n\n### Making a sandwich\nTaking a sandwich order starts with sandwich choices:\n> **Cheese or Veggie special?**  \nif the response is **\"Cheese\"** \"nest\" a sub ask:  \n>> **Manchego or Cheddar?**  \n  \n  \n|Nested &nbsp;**`if`**&nbsp; statement  flowchart  |\n| ------ | \n| ![Image of sandwich order flowchart](https://iajupyterprodblobs.blob.core.windows.net/imagecontainer/flowchart_sandwich.png)   | \n"
    },
    {
      "metadata": {},
      "cell_type": "markdown",
      "source": "# &nbsp;\n<font size=\"6\" color=\"#00A0B2\"  face=\"verdana\"> <B>Examples</B></font>\n> ***TIP:*** click in input box before typing input "
    },
    {
      "metadata": {
        "trusted": true
      },
      "cell_type": "code",
      "source": "# simplified example\n# [ ] review the code then run and following the flowchart paths\n\n# ***TIP:*** click in input box before typing\n\nsandwich_type = input('\"c\" for Cheese or \"v\" for Veggie Special: ')\n\nif sandwich_type.lower() == \"c\":\n    # select cheese type\n    cheese_type = input('\"c\" for Cheddar or \"m\" for Manchego: ')\n    \n    if cheese_type.lower() == \"c\":\n        print(\"Here is your Cheddar Cheese sandwich\")\n    else:\n        print(\"Here is your Manchego Cheese sandwich\") \n\nelse:\n    print(\"Here is your Veggie Special\")",
      "execution_count": null,
      "outputs": []
    },
    {
      "metadata": {
        "trusted": true
      },
      "cell_type": "code",
      "source": "# full example: handling some invalid input and elif statement\n# [ ] review the code then run following the flowchart paths including **invalid responses** like \"xyz123\"\n\n# ***TIP:*** click in input box before typing\n\nprint(\"Hi, welcome to the sandwich shop.  Please select a sandwich.\")\nsandwich_type = input('\"c\" for Cheese or \"v\" for Veggie Special: ')\n# select sandwich type sandwich_type = input('\"c\" for Cheese or \"v\" for Veggie Special: ')\nprint()\n    \nif sandwich_type.lower() == \"c\":\n    # select cheese type\n    print(\"Please select a cheese.\")\n    cheese_type = input('\"c\" for Cheddar or \"m\" for Manchego: ')\n    print()\n    \n    if cheese_type.lower() == \"c\":\n        print(\"Here is your Cheddar Cheese sandwich.  Thank you.\")\n    elif cheese_type.lower() == \"m\":\n        print(\"Here is your Manchego Cheese sandwich.  Thank you.\") \n    else:\n        print(\"Sorry, we don't have\", cheese_type, \"choice today.\")\n\nelif sandwich_type.lower() == \"v\":\n    print(\"Here is your Veggie Special. Thank you.\")\n        \nelse:\n    print(\"Sorry, we don't have\", sandwich_type, \"choice today.\")\nprint()\nprint(\"Goodbye!\")\n",
      "execution_count": null,
      "outputs": []
    },
    {
      "metadata": {},
      "cell_type": "markdown",
      "source": "# &nbsp;\n<font size=\"6\" color=\"#B24C00\"  face=\"verdana\"> <B>Task 1</B></font>\n## Nested `if` \n### [ ] Program: Say \"Hello\"\n- using nested **`if`**\n  \n|Say \"Hello\" flowchart  |\n| ------ | \n|  ![Image: Say \"Hello\" flowchart](https://iajupyterprodblobs.blob.core.windows.net/imagecontainer/flowchart_say_hello.png) | "
    },
    {
      "metadata": {
        "trusted": true
      },
      "cell_type": "code",
      "source": "# [ ] Say \"Hello\" with nested if\n# [ ] Challenge: handle input other than y/n\nprint(\"Hello\")\nx=input(\"Say hello,(Yes or No):\").lower()\nif x.startswith('y'):\n    print(\"full hello\")\n    y=input(\"Yes or No:\").lower()\n    \n    if y==\"yes\":\n        print(\"Hello\")\n    else:\n        print(\"Hi\")\nelse:\n    print(\"friendly nod!!\").\n    ",
      "execution_count": null,
      "outputs": []
    },
    {
      "metadata": {
        "trusted": true
      },
      "cell_type": "code",
      "source": "",
      "execution_count": null,
      "outputs": []
    },
    {
      "metadata": {},
      "cell_type": "markdown",
      "source": "# &nbsp;\n<font size=\"6\" color=\"#B24C00\"  face=\"verdana\"> <B>Task 2</B></font>\n## Nested `if` - testing for `False`\n### Program:  [ ] 3 Guesses\n- use nested if statements complete the flowchart code\n- create a **`birds`** string variable with the names of 1, 2, 3 or more birds to make it easier\n- get **`bird_guess`** input and use **`bird_guess in bird_names`** to generate Boolean True/False\n- if the the guess is wrong (**`False`**) create a sub test until the user has had 3 guesses\n  \n|3 Guesses (\"Guess the Bird\") flowchart  |\n| ------ | \n| ![Image of Guess the Bird flowchart](https://iajupyterprodblobs.blob.core.windows.net/imagecontainer/flowchart_guess_the_bird.png)   | "
    },
    {
      "metadata": {
        "trusted": true
      },
      "cell_type": "code",
      "source": "# [ ] Create the \"Guess the bird\" program\n\nbird_names=[\"pigeon\",\"owl\",\"parrot\"]\n\nprint(\"Start,Guess the bird!!\")\n\nbird_guess1=input(\"Guess the bird...!\").lower()\n\nif bird_guess1 not in bird_names:\n    print(\"No,it is wrong\")\n    bird_guess2=input(\"Guess the bird!!...try again\").lower()\n    \n    if bird_guess2 not in bird_names:\n        print(\"No it is wrong...try one last time\")\n        bird_guess3=input(\"Guess the bird the final time...!!!!\").lower()\n        \n        if bird_guess3 not in bird_names:\n            print(\"Sorry!!,Your out of tries!!!....\")\n        else:\n            print(\"Yes,Your right in the third and last try!!\")\n            \n    else:\n        print(\"Yes,Your right in the second try!! \")\n    \nelse:\n    print(\"Yes,Your right in the first try!!\")\n    \n",
      "execution_count": 18,
      "outputs": [
        {
          "output_type": "stream",
          "text": "Start,Guess the bird!!\nGuess the bird...!crow\nNo,it is wrong\nGuess the bird!!...try againpigeION\nNo it is wrong...try one last time\nGuess the bird the final time...!!!!PIGEON\nYes,Your right in the third and last try!!\n",
          "name": "stdout"
        }
      ]
    },
    {
      "metadata": {},
      "cell_type": "markdown",
      "source": "[Terms of use](http://go.microsoft.com/fwlink/?LinkID=206977) &nbsp; [Privacy & cookies](https://go.microsoft.com/fwlink/?LinkId=521839) &nbsp; © 2017 Microsoft"
    }
  ],
  "metadata": {
    "anaconda-cloud": {},
    "kernelspec": {
      "name": "python3",
      "display_name": "Python 3",
      "language": "python"
    },
    "language_info": {
      "mimetype": "text/x-python",
      "nbconvert_exporter": "python",
      "name": "python",
      "file_extension": ".py",
      "version": "3.5.4",
      "pygments_lexer": "ipython3",
      "codemirror_mode": {
        "version": 3,
        "name": "ipython"
      }
    }
  },
  "nbformat": 4,
  "nbformat_minor": 1
}