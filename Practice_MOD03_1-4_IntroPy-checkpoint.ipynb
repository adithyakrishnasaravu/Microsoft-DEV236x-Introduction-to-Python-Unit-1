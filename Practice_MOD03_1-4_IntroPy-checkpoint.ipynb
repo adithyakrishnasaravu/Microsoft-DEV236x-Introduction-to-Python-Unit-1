{
  "cells": [
    {
      "metadata": {},
      "cell_type": "markdown",
      "source": "\n# 1-4.3 Intro Python Practice\n## Conditionals \n<font size=\"5\" color=\"#00A0B2\"  face=\"verdana\"> <B>Student will be able to</B></font>  \n- **control code flow with `if`... `else` conditional logic**  \n  - using Boolean string methods (`.isupper(), .isalpha(), .startswith()...`)  \n  - using comparision (`>, <, >=, <=, ==, !=`)  \n  - using Strings in comparisons  "
    },
    {
      "metadata": {},
      "cell_type": "markdown",
      "source": "## `if else`\n"
    },
    {
      "metadata": {
        "trusted": true
      },
      "cell_type": "code",
      "source": "# [ ] input avariable: age as digit and cast to int\n# if age greater than or equal to 12 then print message on age in 10 years \n# or else print message \"It is good to be\" age\nage=int(input('Input your age:'))\nif age>=12:\n    print(\"Your age in 10 years will be\",age+10)\nelse:\n    print(\"It is good to be\",age)\n",
      "execution_count": null,
      "outputs": []
    },
    {
      "metadata": {
        "trusted": true
      },
      "cell_type": "code",
      "source": "# [ ] input a number \n# if number IS a digit string then cast to int\n# print number \"greater than 100 is\" True/False\n# if number is NOT a digit string then message the user that \"only int is accepted\"\nnumber=input(\"Input a number\")\nif number.isdigit()==True:\n    if number > 100:\n        print(\"The number greater than 100 is True\")\n    else:\n        print(\"The number greater than 100 is False\")\nelse:\n    print(\"only int is accepted\")",
      "execution_count": 3,
      "outputs": []
    },
    {
      "metadata": {},
      "cell_type": "markdown",
      "source": "### Guessing a letter A-Z  \n**check_guess()** takes 2 string arguments: **letter and guess** (both expect single alphabetical character)   \n    - if guess is not an alpha character print invalid and return False\n    - test and print if guess is \"high\" or \"low\" and return False\n    - test and print if guess is \"correct\" and return True"
    },
    {
      "metadata": {
        "trusted": true
      },
      "cell_type": "code",
      "source": "# [ ] create check_guess()\n# call with test\n\ndef check_guess(letter,guess):\n\n        if(guess.isalpha()) == False:\n            return \"False\"\n        \n        elif guess>letter:\n            return \"False\"\n            \n        elif guess<letter:\n            return \"False\"\n            \n        else: \n            return \"True\"\n            \nletter=\"W\"\nguess=input(\"Enter your guess:\").upper()   \nprint(check_guess(\"W\",guess))",
      "execution_count": 6,
      "outputs": [
        {
          "output_type": "stream",
          "name": "stdout",
          "text": "Enter your guess:w\nTrue\n"
        }
      ]
    },
    {
      "metadata": {},
      "cell_type": "markdown",
      "source": "### Letter Guess\n**create letter_guess() function that gives user 3 guesses**\n- takes a letter character argument for the answer letter\n- gets user input for letter guess  \n- calls check_guess() with answer and guess\n- End letter_guess if \n    - check_guess() equals True, return True  \n    - or after 3 failed attempts, return False"
    },
    {
      "metadata": {
        "trusted": true
      },
      "cell_type": "code",
      "source": "# [ ] create letter_guess() function, call the function to test\n\ndef letter_guess(letter,guess,tries):\n            letter=\"E\"\n            guess = input(\"Enter your guess:\").upper()\ncheck_guess(\"W\",guess)\ntries=0\nif check_guess(\"W\",guess) == True:\n    print(\"GAME OVER!!\")\n    return \"True\"\n                \nelse:\n    print(\"Your answer is wrong!!\")\n    return \"False\"\n    tries+=1\n    guess1 = input(\"Enter your guess:\").upper()           \n                                                     \n            #elif tries==3:\n                #print(\"GAME OVER!!\")\n                \nif tries==3 or check_guess(letter,guess)==True :\n    print(\"GAME OVER!!\")\nelse:\n    pass                     \n                                \nprint(letter_guess(letter,guess,tries))",
      "execution_count": 22,
      "outputs": [
        {
          "output_type": "error",
          "ename": "SyntaxError",
          "evalue": "'return' outside function (<ipython-input-22-ca1de4e43187>, line 10)",
          "traceback": [
            "\u001b[0;36m  File \u001b[0;32m\"<ipython-input-22-ca1de4e43187>\"\u001b[0;36m, line \u001b[0;32m10\u001b[0m\n\u001b[0;31m    return \"True\"\u001b[0m\n\u001b[0m    ^\u001b[0m\n\u001b[0;31mSyntaxError\u001b[0m\u001b[0;31m:\u001b[0m 'return' outside function\n"
          ]
        }
      ]
    },
    {
      "metadata": {
        "trusted": true
      },
      "cell_type": "code",
      "source": "tries=int(input())\n\n\n\nif tries==3 or check_guess(letter,guess) == True :\n    print(\"GAME OVER!!\")",
      "execution_count": 1,
      "outputs": [
        {
          "output_type": "stream",
          "name": "stdout",
          "text": "3\nGAME OVER!!\n"
        }
      ]
    },
    {
      "metadata": {
        "trusted": true
      },
      "cell_type": "code",
      "source": "elif tries == 3:\n                    return \"False\"\n                    print(\"GAME OVER!!!\")\n            else:\n                print(\"Game  overr\")",
      "execution_count": null,
      "outputs": []
    },
    {
      "metadata": {},
      "cell_type": "markdown",
      "source": "### Pet Conversation\n**ask the user for a sentence about a pet and then reply**  \n- get user input in variable: about_pet\n- using a series of **if** statements respond with appropriate conversation\n  - check if \"dog\" is in the string about_pet (sample reply \"Ah, a dog\")\n  - check if \"cat\" is in the string about_pet\n  - check if 1 or more animal is in string about_pet\n- no need for **else**'s\n- finish with thanking for the story"
    },
    {
      "metadata": {
        "trusted": true
      },
      "cell_type": "code",
      "source": "# [ ] complete pet conversation\nabout_pet=input(\"Type a sentence about your pet...\")\n\nif 'dog' in about_pet:\n    print(\"Ah! Your pet is a dog!!I see\")\nif 'cat' in about_pet:\n    print(\"Ah! Your pet is a cat!!I see\")\nif 'rabbit' in about_pet:\n    print(\"Ah! Your pet is a rabbit!!I see\")\n    \nprint(\"Thank you for your response!!\")",
      "execution_count": null,
      "outputs": []
    },
    {
      "metadata": {
        "collapsed": true
      },
      "cell_type": "markdown",
      "source": "[Terms of use](http://go.microsoft.com/fwlink/?LinkID=206977) &nbsp; [Privacy & cookies](https://go.microsoft.com/fwlink/?LinkId=521839) &nbsp; © 2017 Microsoft"
    }
  ],
  "metadata": {
    "anaconda-cloud": {},
    "kernelspec": {
      "name": "python3",
      "display_name": "Python 3",
      "language": "python"
    },
    "language_info": {
      "mimetype": "text/x-python",
      "nbconvert_exporter": "python",
      "name": "python",
      "pygments_lexer": "ipython3",
      "version": "3.5.4",
      "file_extension": ".py",
      "codemirror_mode": {
        "version": 3,
        "name": "ipython"
      }
    }
  },
  "nbformat": 4,
  "nbformat_minor": 1
}