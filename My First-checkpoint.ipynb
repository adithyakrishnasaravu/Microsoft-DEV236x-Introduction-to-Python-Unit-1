{
  "cells": [
    {
      "metadata": {
        "trusted": true
      },
      "cell_type": "code",
      "source": "#inserting a new cell\nprint(\"after edit, save!\")",
      "execution_count": 1,
      "outputs": [
        {
          "output_type": "stream",
          "text": "after edit, save!\n",
          "name": "stdout"
        }
      ]
    },
    {
      "metadata": {
        "trusted": true
      },
      "cell_type": "code",
      "source": "print(\"Keyboard Shortcut to Save is Ctrl+S\")",
      "execution_count": 3,
      "outputs": [
        {
          "output_type": "stream",
          "text": "Keyboard Shortcut to Save is Ctrl+S\n",
          "name": "stdout"
        }
      ]
    }
  ],
  "metadata": {
    "kernelspec": {
      "name": "python3",
      "display_name": "Python 3",
      "language": "python"
    },
    "language_info": {
      "mimetype": "text/x-python",
      "nbconvert_exporter": "python",
      "name": "python",
      "pygments_lexer": "ipython3",
      "version": "3.5.4",
      "file_extension": ".py",
      "codemirror_mode": {
        "version": 3,
        "name": "ipython"
      }
    }
  },
  "nbformat": 4,
  "nbformat_minor": 1
}